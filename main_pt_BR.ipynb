{
  "cells": [
    {
      "cell_type": "markdown",
      "metadata": {
        "id": "view-in-github",
        "colab_type": "text"
      },
      "source": [
        "<a href=\"https://colab.research.google.com/github/proffranciscofernando/titanic_survival_prediction/blob/main/main_pt_BR.ipynb\" target=\"_parent\"><img src=\"https://colab.research.google.com/assets/colab-badge.svg\" alt=\"Open In Colab\"/></a>"
      ]
    },
    {
      "cell_type": "markdown",
      "metadata": {
        "id": "ZUkgRAh72jUs"
      },
      "source": [
        "# Pipeline de Modelos de Machine Learning com Scikit-Learn e Otimização de Hiperparâmetros\n",
        "\n",
        "Neste notebook, vamos explorar como construir um **pipeline de machine learning** utilizando a biblioteca **Scikit-Learn**. Abordaremos desde o pré-processamento dos dados até a otimização de múltiplos modelos de classificação com **Grid Search** e validação cruzada. Por fim, implementaremos uma interface interativa para que usuários possam inserir novos dados e obter previsões de forma iterativa.\n",
        "\n",
        "## Sumário\n",
        "\n",
        "1. [Objetivos](#1-objetivos)\n",
        "2. [Importando as Bibliotecas Necessárias](#2-importando-as-bibliotecas-necessárias)\n",
        "3. [Carregando e Explorando o Conjunto de Dados](#3-carregando-e-explorando-o-conjunto-de-dados)\n",
        "   - [3.1 Carregando o Dataset](#31-carregando-o-dataset)\n",
        "   - [3.2 Análise Exploratória de Dados](#32-análise-exploratória-de-dados)\n",
        "   - [3.3 Selecionando Recursos e Variável Alvo](#33-selecionando-recursos-e-variável-alvo)\n",
        "   - [3.4 Tratamento de Valores Faltantes](#34-tratamento-de-valores-faltantes)\n",
        "4. [Preparação dos Dados](#4-preparação-dos-dados)\n",
        "   - [4.1 Dividindo os Dados em Treino e Teste](#41-dividindo-os-dados-em-treino-e-teste)\n",
        "5. [Construindo o Pipeline](#5-construindo-o-pipeline)\n",
        "   - [5.1 Criando o Pipeline de Pré-processamento](#51-criando-o-pipeline-de-pré-processamento)\n",
        "6. [Otimização de Hiperparâmetros com Grid Search](#6-otimização-de-hiperparâmetros-com-grid-search)\n",
        "   - [6.1 Definindo os Modelos e Parâmetros](#61-definindo-os-modelos-e-parâmetros)\n",
        "   - [6.2 Executando o Grid Search com Validação Cruzada](#62-executando-o-grid-search-com-validação-cruzada)\n",
        "   - [6.3 Comparando os Modelos Otimizados](#63-comparando-os-modelos-otimizados)\n",
        "7. [Selecionando e Salvando o Melhor Modelo](#7-selecionando-e-salvando-o-melhor-modelo)\n",
        "8. [Carregando o Modelo e Fazendo Previsões](#8-carregando-o-modelo-e-fazendo-previsões)\n",
        "   - [8.1 Fazendo Previsões com Novos Dados do Usuário](#81-fazendo-previsões-com-novos-dados-do-usuário)\n",
        "9. [Conclusão](#9-conclusão)\n",
        "10. [Referências](#10-referências)\n"
      ],
      "id": "ZUkgRAh72jUs"
    },
    {
      "cell_type": "markdown",
      "metadata": {
        "id": "qt9RkSdE2jUt"
      },
      "source": [
        "## 1. Objetivos\n",
        "\n",
        "- **Entender o conceito de pipeline em machine learning.**\n",
        "- **Implementar um pipeline que inclua etapas de pré-processamento e múltiplos modelos de classificação.**\n",
        "- **Realizar otimização de hiperparâmetros usando Grid Search com validação cruzada.**\n",
        "- **Avaliar e comparar métricas dos modelos otimizados.**\n",
        "- **Selecionar e salvar o melhor modelo para uso futuro.**\n",
        "- **Implementar uma interface iterativa para entrada de novos dados do usuário.**\n"
      ],
      "id": "qt9RkSdE2jUt"
    },
    {
      "cell_type": "markdown",
      "metadata": {
        "id": "DIjQNeNF2jUt"
      },
      "source": [
        "## 2. Importando as Bibliotecas Necessárias"
      ],
      "id": "DIjQNeNF2jUt"
    },
    {
      "cell_type": "code",
      "execution_count": 17,
      "metadata": {
        "id": "37Bcvzli2jUt"
      },
      "outputs": [],
      "source": [
        "# Importando as Bibliotecas Necessárias\n",
        "\n",
        "import numpy as np\n",
        "import pandas as pd\n",
        "\n",
        "from sklearn.pipeline import Pipeline\n",
        "from sklearn.preprocessing import StandardScaler, OneHotEncoder\n",
        "from sklearn.compose import ColumnTransformer\n",
        "from sklearn.model_selection import train_test_split, GridSearchCV\n",
        "from sklearn.linear_model import LogisticRegression\n",
        "from sklearn.ensemble import RandomForestClassifier\n",
        "from sklearn.svm import SVC\n",
        "from sklearn.neighbors import KNeighborsClassifier\n",
        "from sklearn.tree import DecisionTreeClassifier\n",
        "from sklearn.metrics import accuracy_score, precision_score, recall_score, f1_score\n",
        "\n",
        "import joblib  # Para salvar e carregar o modelo"
      ],
      "id": "37Bcvzli2jUt"
    },
    {
      "cell_type": "markdown",
      "metadata": {
        "id": "k6fsrlwq2jUu"
      },
      "source": [
        "## 3. Carregando e Explorando o Conjunto de Dados"
      ],
      "id": "k6fsrlwq2jUu"
    },
    {
      "cell_type": "markdown",
      "metadata": {
        "id": "ArgZig-52jUu"
      },
      "source": [
        "### 3.1 Carregando o Dataset\n",
        "\n",
        "Para este exemplo, usaremos o conjunto de dados **Titanic** para prever a sobrevivência dos passageiros."
      ],
      "id": "ArgZig-52jUu"
    },
    {
      "cell_type": "code",
      "execution_count": 18,
      "metadata": {
        "colab": {
          "base_uri": "https://localhost:8080/",
          "height": 293
        },
        "id": "BB_n6HQH2jUu",
        "outputId": "da0a950d-6d67-41ec-8789-705919dec814"
      },
      "outputs": [
        {
          "output_type": "execute_result",
          "data": {
            "text/plain": [
              "   PassengerId  Survived  Pclass  \\\n",
              "0            1         0       3   \n",
              "1            2         1       1   \n",
              "2            3         1       3   \n",
              "3            4         1       1   \n",
              "4            5         0       3   \n",
              "\n",
              "                                                Name     Sex   Age  SibSp  \\\n",
              "0                            Braund, Mr. Owen Harris    male  22.0      1   \n",
              "1  Cumings, Mrs. John Bradley (Florence Briggs Th...  female  38.0      1   \n",
              "2                             Heikkinen, Miss. Laina  female  26.0      0   \n",
              "3       Futrelle, Mrs. Jacques Heath (Lily May Peel)  female  35.0      1   \n",
              "4                           Allen, Mr. William Henry    male  35.0      0   \n",
              "\n",
              "   Parch            Ticket     Fare Cabin Embarked  \n",
              "0      0         A/5 21171   7.2500   NaN        S  \n",
              "1      0          PC 17599  71.2833   C85        C  \n",
              "2      0  STON/O2. 3101282   7.9250   NaN        S  \n",
              "3      0            113803  53.1000  C123        S  \n",
              "4      0            373450   8.0500   NaN        S  "
            ],
            "text/html": [
              "\n",
              "  <div id=\"df-b3640018-b9a1-4f3c-898a-322954330a39\" class=\"colab-df-container\">\n",
              "    <div>\n",
              "<style scoped>\n",
              "    .dataframe tbody tr th:only-of-type {\n",
              "        vertical-align: middle;\n",
              "    }\n",
              "\n",
              "    .dataframe tbody tr th {\n",
              "        vertical-align: top;\n",
              "    }\n",
              "\n",
              "    .dataframe thead th {\n",
              "        text-align: right;\n",
              "    }\n",
              "</style>\n",
              "<table border=\"1\" class=\"dataframe\">\n",
              "  <thead>\n",
              "    <tr style=\"text-align: right;\">\n",
              "      <th></th>\n",
              "      <th>PassengerId</th>\n",
              "      <th>Survived</th>\n",
              "      <th>Pclass</th>\n",
              "      <th>Name</th>\n",
              "      <th>Sex</th>\n",
              "      <th>Age</th>\n",
              "      <th>SibSp</th>\n",
              "      <th>Parch</th>\n",
              "      <th>Ticket</th>\n",
              "      <th>Fare</th>\n",
              "      <th>Cabin</th>\n",
              "      <th>Embarked</th>\n",
              "    </tr>\n",
              "  </thead>\n",
              "  <tbody>\n",
              "    <tr>\n",
              "      <th>0</th>\n",
              "      <td>1</td>\n",
              "      <td>0</td>\n",
              "      <td>3</td>\n",
              "      <td>Braund, Mr. Owen Harris</td>\n",
              "      <td>male</td>\n",
              "      <td>22.0</td>\n",
              "      <td>1</td>\n",
              "      <td>0</td>\n",
              "      <td>A/5 21171</td>\n",
              "      <td>7.2500</td>\n",
              "      <td>NaN</td>\n",
              "      <td>S</td>\n",
              "    </tr>\n",
              "    <tr>\n",
              "      <th>1</th>\n",
              "      <td>2</td>\n",
              "      <td>1</td>\n",
              "      <td>1</td>\n",
              "      <td>Cumings, Mrs. John Bradley (Florence Briggs Th...</td>\n",
              "      <td>female</td>\n",
              "      <td>38.0</td>\n",
              "      <td>1</td>\n",
              "      <td>0</td>\n",
              "      <td>PC 17599</td>\n",
              "      <td>71.2833</td>\n",
              "      <td>C85</td>\n",
              "      <td>C</td>\n",
              "    </tr>\n",
              "    <tr>\n",
              "      <th>2</th>\n",
              "      <td>3</td>\n",
              "      <td>1</td>\n",
              "      <td>3</td>\n",
              "      <td>Heikkinen, Miss. Laina</td>\n",
              "      <td>female</td>\n",
              "      <td>26.0</td>\n",
              "      <td>0</td>\n",
              "      <td>0</td>\n",
              "      <td>STON/O2. 3101282</td>\n",
              "      <td>7.9250</td>\n",
              "      <td>NaN</td>\n",
              "      <td>S</td>\n",
              "    </tr>\n",
              "    <tr>\n",
              "      <th>3</th>\n",
              "      <td>4</td>\n",
              "      <td>1</td>\n",
              "      <td>1</td>\n",
              "      <td>Futrelle, Mrs. Jacques Heath (Lily May Peel)</td>\n",
              "      <td>female</td>\n",
              "      <td>35.0</td>\n",
              "      <td>1</td>\n",
              "      <td>0</td>\n",
              "      <td>113803</td>\n",
              "      <td>53.1000</td>\n",
              "      <td>C123</td>\n",
              "      <td>S</td>\n",
              "    </tr>\n",
              "    <tr>\n",
              "      <th>4</th>\n",
              "      <td>5</td>\n",
              "      <td>0</td>\n",
              "      <td>3</td>\n",
              "      <td>Allen, Mr. William Henry</td>\n",
              "      <td>male</td>\n",
              "      <td>35.0</td>\n",
              "      <td>0</td>\n",
              "      <td>0</td>\n",
              "      <td>373450</td>\n",
              "      <td>8.0500</td>\n",
              "      <td>NaN</td>\n",
              "      <td>S</td>\n",
              "    </tr>\n",
              "  </tbody>\n",
              "</table>\n",
              "</div>\n",
              "    <div class=\"colab-df-buttons\">\n",
              "\n",
              "  <div class=\"colab-df-container\">\n",
              "    <button class=\"colab-df-convert\" onclick=\"convertToInteractive('df-b3640018-b9a1-4f3c-898a-322954330a39')\"\n",
              "            title=\"Convert this dataframe to an interactive table.\"\n",
              "            style=\"display:none;\">\n",
              "\n",
              "  <svg xmlns=\"http://www.w3.org/2000/svg\" height=\"24px\" viewBox=\"0 -960 960 960\">\n",
              "    <path d=\"M120-120v-720h720v720H120Zm60-500h600v-160H180v160Zm220 220h160v-160H400v160Zm0 220h160v-160H400v160ZM180-400h160v-160H180v160Zm440 0h160v-160H620v160ZM180-180h160v-160H180v160Zm440 0h160v-160H620v160Z\"/>\n",
              "  </svg>\n",
              "    </button>\n",
              "\n",
              "  <style>\n",
              "    .colab-df-container {\n",
              "      display:flex;\n",
              "      gap: 12px;\n",
              "    }\n",
              "\n",
              "    .colab-df-convert {\n",
              "      background-color: #E8F0FE;\n",
              "      border: none;\n",
              "      border-radius: 50%;\n",
              "      cursor: pointer;\n",
              "      display: none;\n",
              "      fill: #1967D2;\n",
              "      height: 32px;\n",
              "      padding: 0 0 0 0;\n",
              "      width: 32px;\n",
              "    }\n",
              "\n",
              "    .colab-df-convert:hover {\n",
              "      background-color: #E2EBFA;\n",
              "      box-shadow: 0px 1px 2px rgba(60, 64, 67, 0.3), 0px 1px 3px 1px rgba(60, 64, 67, 0.15);\n",
              "      fill: #174EA6;\n",
              "    }\n",
              "\n",
              "    .colab-df-buttons div {\n",
              "      margin-bottom: 4px;\n",
              "    }\n",
              "\n",
              "    [theme=dark] .colab-df-convert {\n",
              "      background-color: #3B4455;\n",
              "      fill: #D2E3FC;\n",
              "    }\n",
              "\n",
              "    [theme=dark] .colab-df-convert:hover {\n",
              "      background-color: #434B5C;\n",
              "      box-shadow: 0px 1px 3px 1px rgba(0, 0, 0, 0.15);\n",
              "      filter: drop-shadow(0px 1px 2px rgba(0, 0, 0, 0.3));\n",
              "      fill: #FFFFFF;\n",
              "    }\n",
              "  </style>\n",
              "\n",
              "    <script>\n",
              "      const buttonEl =\n",
              "        document.querySelector('#df-b3640018-b9a1-4f3c-898a-322954330a39 button.colab-df-convert');\n",
              "      buttonEl.style.display =\n",
              "        google.colab.kernel.accessAllowed ? 'block' : 'none';\n",
              "\n",
              "      async function convertToInteractive(key) {\n",
              "        const element = document.querySelector('#df-b3640018-b9a1-4f3c-898a-322954330a39');\n",
              "        const dataTable =\n",
              "          await google.colab.kernel.invokeFunction('convertToInteractive',\n",
              "                                                    [key], {});\n",
              "        if (!dataTable) return;\n",
              "\n",
              "        const docLinkHtml = 'Like what you see? Visit the ' +\n",
              "          '<a target=\"_blank\" href=https://colab.research.google.com/notebooks/data_table.ipynb>data table notebook</a>'\n",
              "          + ' to learn more about interactive tables.';\n",
              "        element.innerHTML = '';\n",
              "        dataTable['output_type'] = 'display_data';\n",
              "        await google.colab.output.renderOutput(dataTable, element);\n",
              "        const docLink = document.createElement('div');\n",
              "        docLink.innerHTML = docLinkHtml;\n",
              "        element.appendChild(docLink);\n",
              "      }\n",
              "    </script>\n",
              "  </div>\n",
              "\n",
              "\n",
              "<div id=\"df-ba91e67f-087d-40d6-b81f-2fc687217335\">\n",
              "  <button class=\"colab-df-quickchart\" onclick=\"quickchart('df-ba91e67f-087d-40d6-b81f-2fc687217335')\"\n",
              "            title=\"Suggest charts\"\n",
              "            style=\"display:none;\">\n",
              "\n",
              "<svg xmlns=\"http://www.w3.org/2000/svg\" height=\"24px\"viewBox=\"0 0 24 24\"\n",
              "     width=\"24px\">\n",
              "    <g>\n",
              "        <path d=\"M19 3H5c-1.1 0-2 .9-2 2v14c0 1.1.9 2 2 2h14c1.1 0 2-.9 2-2V5c0-1.1-.9-2-2-2zM9 17H7v-7h2v7zm4 0h-2V7h2v10zm4 0h-2v-4h2v4z\"/>\n",
              "    </g>\n",
              "</svg>\n",
              "  </button>\n",
              "\n",
              "<style>\n",
              "  .colab-df-quickchart {\n",
              "      --bg-color: #E8F0FE;\n",
              "      --fill-color: #1967D2;\n",
              "      --hover-bg-color: #E2EBFA;\n",
              "      --hover-fill-color: #174EA6;\n",
              "      --disabled-fill-color: #AAA;\n",
              "      --disabled-bg-color: #DDD;\n",
              "  }\n",
              "\n",
              "  [theme=dark] .colab-df-quickchart {\n",
              "      --bg-color: #3B4455;\n",
              "      --fill-color: #D2E3FC;\n",
              "      --hover-bg-color: #434B5C;\n",
              "      --hover-fill-color: #FFFFFF;\n",
              "      --disabled-bg-color: #3B4455;\n",
              "      --disabled-fill-color: #666;\n",
              "  }\n",
              "\n",
              "  .colab-df-quickchart {\n",
              "    background-color: var(--bg-color);\n",
              "    border: none;\n",
              "    border-radius: 50%;\n",
              "    cursor: pointer;\n",
              "    display: none;\n",
              "    fill: var(--fill-color);\n",
              "    height: 32px;\n",
              "    padding: 0;\n",
              "    width: 32px;\n",
              "  }\n",
              "\n",
              "  .colab-df-quickchart:hover {\n",
              "    background-color: var(--hover-bg-color);\n",
              "    box-shadow: 0 1px 2px rgba(60, 64, 67, 0.3), 0 1px 3px 1px rgba(60, 64, 67, 0.15);\n",
              "    fill: var(--button-hover-fill-color);\n",
              "  }\n",
              "\n",
              "  .colab-df-quickchart-complete:disabled,\n",
              "  .colab-df-quickchart-complete:disabled:hover {\n",
              "    background-color: var(--disabled-bg-color);\n",
              "    fill: var(--disabled-fill-color);\n",
              "    box-shadow: none;\n",
              "  }\n",
              "\n",
              "  .colab-df-spinner {\n",
              "    border: 2px solid var(--fill-color);\n",
              "    border-color: transparent;\n",
              "    border-bottom-color: var(--fill-color);\n",
              "    animation:\n",
              "      spin 1s steps(1) infinite;\n",
              "  }\n",
              "\n",
              "  @keyframes spin {\n",
              "    0% {\n",
              "      border-color: transparent;\n",
              "      border-bottom-color: var(--fill-color);\n",
              "      border-left-color: var(--fill-color);\n",
              "    }\n",
              "    20% {\n",
              "      border-color: transparent;\n",
              "      border-left-color: var(--fill-color);\n",
              "      border-top-color: var(--fill-color);\n",
              "    }\n",
              "    30% {\n",
              "      border-color: transparent;\n",
              "      border-left-color: var(--fill-color);\n",
              "      border-top-color: var(--fill-color);\n",
              "      border-right-color: var(--fill-color);\n",
              "    }\n",
              "    40% {\n",
              "      border-color: transparent;\n",
              "      border-right-color: var(--fill-color);\n",
              "      border-top-color: var(--fill-color);\n",
              "    }\n",
              "    60% {\n",
              "      border-color: transparent;\n",
              "      border-right-color: var(--fill-color);\n",
              "    }\n",
              "    80% {\n",
              "      border-color: transparent;\n",
              "      border-right-color: var(--fill-color);\n",
              "      border-bottom-color: var(--fill-color);\n",
              "    }\n",
              "    90% {\n",
              "      border-color: transparent;\n",
              "      border-bottom-color: var(--fill-color);\n",
              "    }\n",
              "  }\n",
              "</style>\n",
              "\n",
              "  <script>\n",
              "    async function quickchart(key) {\n",
              "      const quickchartButtonEl =\n",
              "        document.querySelector('#' + key + ' button');\n",
              "      quickchartButtonEl.disabled = true;  // To prevent multiple clicks.\n",
              "      quickchartButtonEl.classList.add('colab-df-spinner');\n",
              "      try {\n",
              "        const charts = await google.colab.kernel.invokeFunction(\n",
              "            'suggestCharts', [key], {});\n",
              "      } catch (error) {\n",
              "        console.error('Error during call to suggestCharts:', error);\n",
              "      }\n",
              "      quickchartButtonEl.classList.remove('colab-df-spinner');\n",
              "      quickchartButtonEl.classList.add('colab-df-quickchart-complete');\n",
              "    }\n",
              "    (() => {\n",
              "      let quickchartButtonEl =\n",
              "        document.querySelector('#df-ba91e67f-087d-40d6-b81f-2fc687217335 button');\n",
              "      quickchartButtonEl.style.display =\n",
              "        google.colab.kernel.accessAllowed ? 'block' : 'none';\n",
              "    })();\n",
              "  </script>\n",
              "</div>\n",
              "\n",
              "    </div>\n",
              "  </div>\n"
            ],
            "application/vnd.google.colaboratory.intrinsic+json": {
              "type": "dataframe",
              "variable_name": "data",
              "summary": "{\n  \"name\": \"data\",\n  \"rows\": 891,\n  \"fields\": [\n    {\n      \"column\": \"PassengerId\",\n      \"properties\": {\n        \"dtype\": \"number\",\n        \"std\": 257,\n        \"min\": 1,\n        \"max\": 891,\n        \"num_unique_values\": 891,\n        \"samples\": [\n          710,\n          440,\n          841\n        ],\n        \"semantic_type\": \"\",\n        \"description\": \"\"\n      }\n    },\n    {\n      \"column\": \"Survived\",\n      \"properties\": {\n        \"dtype\": \"number\",\n        \"std\": 0,\n        \"min\": 0,\n        \"max\": 1,\n        \"num_unique_values\": 2,\n        \"samples\": [\n          1,\n          0\n        ],\n        \"semantic_type\": \"\",\n        \"description\": \"\"\n      }\n    },\n    {\n      \"column\": \"Pclass\",\n      \"properties\": {\n        \"dtype\": \"number\",\n        \"std\": 0,\n        \"min\": 1,\n        \"max\": 3,\n        \"num_unique_values\": 3,\n        \"samples\": [\n          3,\n          1\n        ],\n        \"semantic_type\": \"\",\n        \"description\": \"\"\n      }\n    },\n    {\n      \"column\": \"Name\",\n      \"properties\": {\n        \"dtype\": \"string\",\n        \"num_unique_values\": 891,\n        \"samples\": [\n          \"Moubarek, Master. Halim Gonios (\\\"William George\\\")\",\n          \"Kvillner, Mr. Johan Henrik Johannesson\"\n        ],\n        \"semantic_type\": \"\",\n        \"description\": \"\"\n      }\n    },\n    {\n      \"column\": \"Sex\",\n      \"properties\": {\n        \"dtype\": \"category\",\n        \"num_unique_values\": 2,\n        \"samples\": [\n          \"female\",\n          \"male\"\n        ],\n        \"semantic_type\": \"\",\n        \"description\": \"\"\n      }\n    },\n    {\n      \"column\": \"Age\",\n      \"properties\": {\n        \"dtype\": \"number\",\n        \"std\": 14.526497332334042,\n        \"min\": 0.42,\n        \"max\": 80.0,\n        \"num_unique_values\": 88,\n        \"samples\": [\n          0.75,\n          22.0\n        ],\n        \"semantic_type\": \"\",\n        \"description\": \"\"\n      }\n    },\n    {\n      \"column\": \"SibSp\",\n      \"properties\": {\n        \"dtype\": \"number\",\n        \"std\": 1,\n        \"min\": 0,\n        \"max\": 8,\n        \"num_unique_values\": 7,\n        \"samples\": [\n          1,\n          0\n        ],\n        \"semantic_type\": \"\",\n        \"description\": \"\"\n      }\n    },\n    {\n      \"column\": \"Parch\",\n      \"properties\": {\n        \"dtype\": \"number\",\n        \"std\": 0,\n        \"min\": 0,\n        \"max\": 6,\n        \"num_unique_values\": 7,\n        \"samples\": [\n          0,\n          1\n        ],\n        \"semantic_type\": \"\",\n        \"description\": \"\"\n      }\n    },\n    {\n      \"column\": \"Ticket\",\n      \"properties\": {\n        \"dtype\": \"string\",\n        \"num_unique_values\": 681,\n        \"samples\": [\n          \"11774\",\n          \"248740\"\n        ],\n        \"semantic_type\": \"\",\n        \"description\": \"\"\n      }\n    },\n    {\n      \"column\": \"Fare\",\n      \"properties\": {\n        \"dtype\": \"number\",\n        \"std\": 49.6934285971809,\n        \"min\": 0.0,\n        \"max\": 512.3292,\n        \"num_unique_values\": 248,\n        \"samples\": [\n          11.2417,\n          51.8625\n        ],\n        \"semantic_type\": \"\",\n        \"description\": \"\"\n      }\n    },\n    {\n      \"column\": \"Cabin\",\n      \"properties\": {\n        \"dtype\": \"category\",\n        \"num_unique_values\": 147,\n        \"samples\": [\n          \"D45\",\n          \"B49\"\n        ],\n        \"semantic_type\": \"\",\n        \"description\": \"\"\n      }\n    },\n    {\n      \"column\": \"Embarked\",\n      \"properties\": {\n        \"dtype\": \"category\",\n        \"num_unique_values\": 3,\n        \"samples\": [\n          \"S\",\n          \"C\"\n        ],\n        \"semantic_type\": \"\",\n        \"description\": \"\"\n      }\n    }\n  ]\n}"
            }
          },
          "metadata": {},
          "execution_count": 18
        }
      ],
      "source": [
        "# Carregando o dataset\n",
        "url = 'https://raw.githubusercontent.com/proffranciscofernando/titanic_survival_prediction/refs/heads/main/titanic.csv'\n",
        "data = pd.read_csv(url)\n",
        "\n",
        "# Visualizando as primeiras linhas\n",
        "data.head()"
      ],
      "id": "BB_n6HQH2jUu"
    },
    {
      "cell_type": "markdown",
      "metadata": {
        "id": "14r1wyRI2jUu"
      },
      "source": [
        "### 3.2 Análise Exploratória de Dados\n",
        "\n",
        "Vamos verificar as informações básicas do dataset para entender sua estrutura."
      ],
      "id": "14r1wyRI2jUu"
    },
    {
      "cell_type": "code",
      "execution_count": 19,
      "metadata": {
        "colab": {
          "base_uri": "https://localhost:8080/"
        },
        "id": "Q5QHGT-T2jUu",
        "outputId": "14ab2d29-391f-48ea-bfb9-6087c7681700"
      },
      "outputs": [
        {
          "output_type": "stream",
          "name": "stdout",
          "text": [
            "<class 'pandas.core.frame.DataFrame'>\n",
            "RangeIndex: 891 entries, 0 to 890\n",
            "Data columns (total 12 columns):\n",
            " #   Column       Non-Null Count  Dtype  \n",
            "---  ------       --------------  -----  \n",
            " 0   PassengerId  891 non-null    int64  \n",
            " 1   Survived     891 non-null    int64  \n",
            " 2   Pclass       891 non-null    int64  \n",
            " 3   Name         891 non-null    object \n",
            " 4   Sex          891 non-null    object \n",
            " 5   Age          714 non-null    float64\n",
            " 6   SibSp        891 non-null    int64  \n",
            " 7   Parch        891 non-null    int64  \n",
            " 8   Ticket       891 non-null    object \n",
            " 9   Fare         891 non-null    float64\n",
            " 10  Cabin        204 non-null    object \n",
            " 11  Embarked     889 non-null    object \n",
            "dtypes: float64(2), int64(5), object(5)\n",
            "memory usage: 83.7+ KB\n"
          ]
        }
      ],
      "source": [
        "# Informações básicas do dataset\n",
        "data.info()"
      ],
      "id": "Q5QHGT-T2jUu"
    },
    {
      "cell_type": "markdown",
      "metadata": {
        "id": "XE6x3tKn2jUv"
      },
      "source": [
        "### 3.3 Selecionando Recursos e Variável Alvo\n",
        "\n",
        "Selecionaremos algumas colunas relevantes para simplificar o exemplo."
      ],
      "id": "XE6x3tKn2jUv"
    },
    {
      "cell_type": "code",
      "execution_count": 20,
      "metadata": {
        "id": "cg92H_F82jUv"
      },
      "outputs": [],
      "source": [
        "# Selecionando as features e a variável alvo\n",
        "X = data[['Pclass', 'Sex', 'Age', 'Fare']]\n",
        "y = data['Survived']"
      ],
      "id": "cg92H_F82jUv"
    },
    {
      "cell_type": "markdown",
      "metadata": {
        "id": "KNQIPjO42jUv"
      },
      "source": [
        "### 3.4 Tratamento de Valores Faltantes\n",
        "\n",
        "Verificamos se existem valores faltantes nos dados selecionados."
      ],
      "id": "KNQIPjO42jUv"
    },
    {
      "cell_type": "code",
      "execution_count": 21,
      "metadata": {
        "colab": {
          "base_uri": "https://localhost:8080/",
          "height": 209
        },
        "id": "HYosislx2jUv",
        "outputId": "9c9b7b58-0f00-4b14-d8d2-312b35b5c781"
      },
      "outputs": [
        {
          "output_type": "execute_result",
          "data": {
            "text/plain": [
              "Pclass      0\n",
              "Sex         0\n",
              "Age       177\n",
              "Fare        0\n",
              "dtype: int64"
            ],
            "text/html": [
              "<div>\n",
              "<style scoped>\n",
              "    .dataframe tbody tr th:only-of-type {\n",
              "        vertical-align: middle;\n",
              "    }\n",
              "\n",
              "    .dataframe tbody tr th {\n",
              "        vertical-align: top;\n",
              "    }\n",
              "\n",
              "    .dataframe thead th {\n",
              "        text-align: right;\n",
              "    }\n",
              "</style>\n",
              "<table border=\"1\" class=\"dataframe\">\n",
              "  <thead>\n",
              "    <tr style=\"text-align: right;\">\n",
              "      <th></th>\n",
              "      <th>0</th>\n",
              "    </tr>\n",
              "  </thead>\n",
              "  <tbody>\n",
              "    <tr>\n",
              "      <th>Pclass</th>\n",
              "      <td>0</td>\n",
              "    </tr>\n",
              "    <tr>\n",
              "      <th>Sex</th>\n",
              "      <td>0</td>\n",
              "    </tr>\n",
              "    <tr>\n",
              "      <th>Age</th>\n",
              "      <td>177</td>\n",
              "    </tr>\n",
              "    <tr>\n",
              "      <th>Fare</th>\n",
              "      <td>0</td>\n",
              "    </tr>\n",
              "  </tbody>\n",
              "</table>\n",
              "</div><br><label><b>dtype:</b> int64</label>"
            ]
          },
          "metadata": {},
          "execution_count": 21
        }
      ],
      "source": [
        "# Verificando valores faltantes\n",
        "X.isnull().sum()"
      ],
      "id": "HYosislx2jUv"
    },
    {
      "cell_type": "markdown",
      "metadata": {
        "id": "LcAgTf932jUv"
      },
      "source": [
        "Como podemos ver, a coluna **Age** possui valores faltantes. Vamos preencher esses valores com a média da idade."
      ],
      "id": "LcAgTf932jUv"
    },
    {
      "cell_type": "code",
      "execution_count": 22,
      "metadata": {
        "colab": {
          "base_uri": "https://localhost:8080/"
        },
        "id": "IrzY4MlK2jUv",
        "outputId": "ee145b4f-1ca7-4b99-e5ad-dbcd48935f02"
      },
      "outputs": [
        {
          "output_type": "stream",
          "name": "stderr",
          "text": [
            "<ipython-input-22-f490ce0e8f4f>:2: SettingWithCopyWarning: \n",
            "A value is trying to be set on a copy of a slice from a DataFrame\n",
            "\n",
            "See the caveats in the documentation: https://pandas.pydata.org/pandas-docs/stable/user_guide/indexing.html#returning-a-view-versus-a-copy\n",
            "  X['Age'].fillna(X['Age'].mean(), inplace=True)\n"
          ]
        }
      ],
      "source": [
        "# Preenchendo valores faltantes na coluna 'Age' com a média\n",
        "X['Age'].fillna(X['Age'].mean(), inplace=True)"
      ],
      "id": "IrzY4MlK2jUv"
    },
    {
      "cell_type": "markdown",
      "metadata": {
        "id": "-JaYBeL72jUv"
      },
      "source": [
        "## 4. Preparação dos Dados"
      ],
      "id": "-JaYBeL72jUv"
    },
    {
      "cell_type": "markdown",
      "metadata": {
        "id": "JYU1sh052jUv"
      },
      "source": [
        "### 4.1 Dividindo os Dados em Treino e Teste\n",
        "\n",
        "Dividimos o conjunto de dados em treino e teste para avaliar o desempenho dos modelos."
      ],
      "id": "JYU1sh052jUv"
    },
    {
      "cell_type": "code",
      "execution_count": 23,
      "metadata": {
        "id": "Ym95tPel2jUv"
      },
      "outputs": [],
      "source": [
        "# Dividindo os dados em treino e teste\n",
        "X_train, X_test, y_train, y_test = train_test_split(X, y, test_size=0.2, random_state=42)"
      ],
      "id": "Ym95tPel2jUv"
    },
    {
      "cell_type": "markdown",
      "metadata": {
        "id": "1eZ0vLYF2jUv"
      },
      "source": [
        "## 5. Construindo o Pipeline"
      ],
      "id": "1eZ0vLYF2jUv"
    },
    {
      "cell_type": "markdown",
      "metadata": {
        "id": "sDhHqtDy2jUw"
      },
      "source": [
        "### 5.1 Criando o Pipeline de Pré-processamento\n",
        "\n",
        "Definimos transformações para colunas numéricas e categóricas."
      ],
      "id": "sDhHqtDy2jUw"
    },
    {
      "cell_type": "code",
      "execution_count": 24,
      "metadata": {
        "id": "Q4RXfcxQ2jUw"
      },
      "outputs": [],
      "source": [
        "# Definindo as colunas numéricas e categóricas\n",
        "numeric_features = ['Age', 'Fare']\n",
        "numeric_transformer = Pipeline(steps=[\n",
        "    ('scaler', StandardScaler())\n",
        "])\n",
        "\n",
        "categorical_features = ['Pclass', 'Sex']\n",
        "categorical_transformer = Pipeline(steps=[\n",
        "    ('onehot', OneHotEncoder(handle_unknown='ignore'))\n",
        "])\n",
        "\n",
        "# Combinando as transformações\n",
        "preprocessor = ColumnTransformer(\n",
        "    transformers=[\n",
        "        ('num', numeric_transformer, numeric_features),\n",
        "        ('cat', categorical_transformer, categorical_features)\n",
        "    ])"
      ],
      "id": "Q4RXfcxQ2jUw"
    },
    {
      "cell_type": "markdown",
      "metadata": {
        "id": "H9dI3y6w2jUw"
      },
      "source": [
        "## 6. Otimização de Hiperparâmetros com Grid Search"
      ],
      "id": "H9dI3y6w2jUw"
    },
    {
      "cell_type": "markdown",
      "metadata": {
        "id": "KnBjwhvU2jUw"
      },
      "source": [
        "### 6.1 Definindo os Modelos e Parâmetros\n",
        "\n",
        "Vamos definir uma lista de modelos de classificação e os hiperparâmetros que desejamos otimizar para cada um."
      ],
      "id": "KnBjwhvU2jUw"
    },
    {
      "cell_type": "code",
      "execution_count": 25,
      "metadata": {
        "id": "agyP8ASE2jUw"
      },
      "outputs": [],
      "source": [
        "# Definindo os modelos e seus hiperparâmetros\n",
        "modelos_params = {\n",
        "    'Regressão Logística': {\n",
        "        'modelo': LogisticRegression(max_iter=1000),\n",
        "        'params': {\n",
        "            'classifier__C': [0.1, 1, 10],\n",
        "            'classifier__penalty': ['l2']\n",
        "        }\n",
        "    },\n",
        "    'Random Forest': {\n",
        "        'modelo': RandomForestClassifier(),\n",
        "        'params': {\n",
        "            'classifier__n_estimators': [50, 100, 200],\n",
        "            'classifier__max_depth': [None, 5, 10]\n",
        "        }\n",
        "    },\n",
        "    'SVM': {\n",
        "        'modelo': SVC(probability=True),\n",
        "        'params': {\n",
        "            'classifier__C': [0.1, 1, 10],\n",
        "            'classifier__kernel': ['linear', 'rbf']\n",
        "        }\n",
        "    },\n",
        "    'KNN': {\n",
        "        'modelo': KNeighborsClassifier(),\n",
        "        'params': {\n",
        "            'classifier__n_neighbors': [3, 5, 7],\n",
        "            'classifier__weights': ['uniform', 'distance']\n",
        "        }\n",
        "    },\n",
        "    'Árvore de Decisão': {\n",
        "        'modelo': DecisionTreeClassifier(),\n",
        "        'params': {\n",
        "            'classifier__max_depth': [None, 5, 10],\n",
        "            'classifier__criterion': ['gini', 'entropy']\n",
        "        }\n",
        "    }\n",
        "}"
      ],
      "id": "agyP8ASE2jUw"
    },
    {
      "cell_type": "markdown",
      "metadata": {
        "id": "iFmVuw272jUw"
      },
      "source": [
        "### 6.2 Executando o Grid Search com Validação Cruzada\n",
        "\n",
        "Agora, vamos realizar o Grid Search com validação cruzada para cada modelo."
      ],
      "id": "iFmVuw272jUw"
    },
    {
      "cell_type": "code",
      "execution_count": 26,
      "metadata": {
        "id": "lvwrEpGw2jUw"
      },
      "outputs": [],
      "source": [
        "# Executando o Grid Search com validação cruzada para cada modelo\n",
        "resultados = []\n",
        "\n",
        "for nome, mp in modelos_params.items():\n",
        "    modelo = mp['modelo']\n",
        "    params = mp['params']\n",
        "\n",
        "    # Criando o pipeline com o modelo atual\n",
        "    pipeline = Pipeline(steps=[\n",
        "        ('preprocessor', preprocessor),\n",
        "        ('classifier', modelo)\n",
        "    ])\n",
        "\n",
        "    # Grid Search com validação cruzada\n",
        "    grid_search = GridSearchCV(\n",
        "        estimator=pipeline,\n",
        "        param_grid=params,\n",
        "        cv=5,\n",
        "        scoring='f1',\n",
        "        n_jobs=-1\n",
        "    )\n",
        "\n",
        "    # Treinando o modelo\n",
        "    grid_search.fit(X_train, y_train)\n",
        "\n",
        "    # Melhor modelo encontrado\n",
        "    best_model = grid_search.best_estimator_\n",
        "\n",
        "    # Fazendo previsões no conjunto de teste\n",
        "    y_pred = best_model.predict(X_test)\n",
        "\n",
        "    # Calculando métricas\n",
        "    acc = accuracy_score(y_test, y_pred)\n",
        "    prec = precision_score(y_test, y_pred)\n",
        "    rec = recall_score(y_test, y_pred)\n",
        "    f1 = f1_score(y_test, y_pred)\n",
        "\n",
        "    # Armazenando os resultados\n",
        "    resultados.append({\n",
        "        'Modelo': nome,\n",
        "        'Melhores Hiperparâmetros': grid_search.best_params_,\n",
        "        'Acurácia': acc,\n",
        "        'Precisão': prec,\n",
        "        'Recall': rec,\n",
        "        'F1-Score': f1,\n",
        "        'Pipeline': best_model  # Armazenando o melhor modelo\n",
        "    })"
      ],
      "id": "lvwrEpGw2jUw"
    },
    {
      "cell_type": "markdown",
      "metadata": {
        "id": "3jNiiaTr2jUw"
      },
      "source": [
        "### 6.3 Comparando os Modelos Otimizados\n",
        "\n",
        "Vamos visualizar as métricas de cada modelo otimizado em um dataframe."
      ],
      "id": "3jNiiaTr2jUw"
    },
    {
      "cell_type": "code",
      "execution_count": 27,
      "metadata": {
        "colab": {
          "base_uri": "https://localhost:8080/",
          "height": 206
        },
        "id": "OiUn5huE2jUw",
        "outputId": "dd4539f3-a4e2-4d24-c091-36e166cfcf80"
      },
      "outputs": [
        {
          "output_type": "execute_result",
          "data": {
            "text/plain": [
              "                Modelo  Acurácia  Precisão    Recall  F1-Score  \\\n",
              "0        Random Forest  0.826816  0.830769  0.729730  0.776978   \n",
              "1  Regressão Logística  0.798883  0.779412  0.716216  0.746479   \n",
              "2                  SVM  0.810056  0.833333  0.675676  0.746269   \n",
              "3                  KNN  0.782123  0.777778  0.662162  0.715328   \n",
              "4    Árvore de Decisão  0.770950  0.836735  0.554054  0.666667   \n",
              "\n",
              "                            Melhores Hiperparâmetros  \n",
              "0  {'classifier__max_depth': 10, 'classifier__n_e...  \n",
              "1  {'classifier__C': 0.1, 'classifier__penalty': ...  \n",
              "2  {'classifier__C': 10, 'classifier__kernel': 'r...  \n",
              "3  {'classifier__n_neighbors': 3, 'classifier__we...  \n",
              "4  {'classifier__criterion': 'entropy', 'classifi...  "
            ],
            "text/html": [
              "\n",
              "  <div id=\"df-b43856d8-b56c-4bc8-9833-7fa4d212d55d\" class=\"colab-df-container\">\n",
              "    <div>\n",
              "<style scoped>\n",
              "    .dataframe tbody tr th:only-of-type {\n",
              "        vertical-align: middle;\n",
              "    }\n",
              "\n",
              "    .dataframe tbody tr th {\n",
              "        vertical-align: top;\n",
              "    }\n",
              "\n",
              "    .dataframe thead th {\n",
              "        text-align: right;\n",
              "    }\n",
              "</style>\n",
              "<table border=\"1\" class=\"dataframe\">\n",
              "  <thead>\n",
              "    <tr style=\"text-align: right;\">\n",
              "      <th></th>\n",
              "      <th>Modelo</th>\n",
              "      <th>Acurácia</th>\n",
              "      <th>Precisão</th>\n",
              "      <th>Recall</th>\n",
              "      <th>F1-Score</th>\n",
              "      <th>Melhores Hiperparâmetros</th>\n",
              "    </tr>\n",
              "  </thead>\n",
              "  <tbody>\n",
              "    <tr>\n",
              "      <th>0</th>\n",
              "      <td>Random Forest</td>\n",
              "      <td>0.826816</td>\n",
              "      <td>0.830769</td>\n",
              "      <td>0.729730</td>\n",
              "      <td>0.776978</td>\n",
              "      <td>{'classifier__max_depth': 10, 'classifier__n_e...</td>\n",
              "    </tr>\n",
              "    <tr>\n",
              "      <th>1</th>\n",
              "      <td>Regressão Logística</td>\n",
              "      <td>0.798883</td>\n",
              "      <td>0.779412</td>\n",
              "      <td>0.716216</td>\n",
              "      <td>0.746479</td>\n",
              "      <td>{'classifier__C': 0.1, 'classifier__penalty': ...</td>\n",
              "    </tr>\n",
              "    <tr>\n",
              "      <th>2</th>\n",
              "      <td>SVM</td>\n",
              "      <td>0.810056</td>\n",
              "      <td>0.833333</td>\n",
              "      <td>0.675676</td>\n",
              "      <td>0.746269</td>\n",
              "      <td>{'classifier__C': 10, 'classifier__kernel': 'r...</td>\n",
              "    </tr>\n",
              "    <tr>\n",
              "      <th>3</th>\n",
              "      <td>KNN</td>\n",
              "      <td>0.782123</td>\n",
              "      <td>0.777778</td>\n",
              "      <td>0.662162</td>\n",
              "      <td>0.715328</td>\n",
              "      <td>{'classifier__n_neighbors': 3, 'classifier__we...</td>\n",
              "    </tr>\n",
              "    <tr>\n",
              "      <th>4</th>\n",
              "      <td>Árvore de Decisão</td>\n",
              "      <td>0.770950</td>\n",
              "      <td>0.836735</td>\n",
              "      <td>0.554054</td>\n",
              "      <td>0.666667</td>\n",
              "      <td>{'classifier__criterion': 'entropy', 'classifi...</td>\n",
              "    </tr>\n",
              "  </tbody>\n",
              "</table>\n",
              "</div>\n",
              "    <div class=\"colab-df-buttons\">\n",
              "\n",
              "  <div class=\"colab-df-container\">\n",
              "    <button class=\"colab-df-convert\" onclick=\"convertToInteractive('df-b43856d8-b56c-4bc8-9833-7fa4d212d55d')\"\n",
              "            title=\"Convert this dataframe to an interactive table.\"\n",
              "            style=\"display:none;\">\n",
              "\n",
              "  <svg xmlns=\"http://www.w3.org/2000/svg\" height=\"24px\" viewBox=\"0 -960 960 960\">\n",
              "    <path d=\"M120-120v-720h720v720H120Zm60-500h600v-160H180v160Zm220 220h160v-160H400v160Zm0 220h160v-160H400v160ZM180-400h160v-160H180v160Zm440 0h160v-160H620v160ZM180-180h160v-160H180v160Zm440 0h160v-160H620v160Z\"/>\n",
              "  </svg>\n",
              "    </button>\n",
              "\n",
              "  <style>\n",
              "    .colab-df-container {\n",
              "      display:flex;\n",
              "      gap: 12px;\n",
              "    }\n",
              "\n",
              "    .colab-df-convert {\n",
              "      background-color: #E8F0FE;\n",
              "      border: none;\n",
              "      border-radius: 50%;\n",
              "      cursor: pointer;\n",
              "      display: none;\n",
              "      fill: #1967D2;\n",
              "      height: 32px;\n",
              "      padding: 0 0 0 0;\n",
              "      width: 32px;\n",
              "    }\n",
              "\n",
              "    .colab-df-convert:hover {\n",
              "      background-color: #E2EBFA;\n",
              "      box-shadow: 0px 1px 2px rgba(60, 64, 67, 0.3), 0px 1px 3px 1px rgba(60, 64, 67, 0.15);\n",
              "      fill: #174EA6;\n",
              "    }\n",
              "\n",
              "    .colab-df-buttons div {\n",
              "      margin-bottom: 4px;\n",
              "    }\n",
              "\n",
              "    [theme=dark] .colab-df-convert {\n",
              "      background-color: #3B4455;\n",
              "      fill: #D2E3FC;\n",
              "    }\n",
              "\n",
              "    [theme=dark] .colab-df-convert:hover {\n",
              "      background-color: #434B5C;\n",
              "      box-shadow: 0px 1px 3px 1px rgba(0, 0, 0, 0.15);\n",
              "      filter: drop-shadow(0px 1px 2px rgba(0, 0, 0, 0.3));\n",
              "      fill: #FFFFFF;\n",
              "    }\n",
              "  </style>\n",
              "\n",
              "    <script>\n",
              "      const buttonEl =\n",
              "        document.querySelector('#df-b43856d8-b56c-4bc8-9833-7fa4d212d55d button.colab-df-convert');\n",
              "      buttonEl.style.display =\n",
              "        google.colab.kernel.accessAllowed ? 'block' : 'none';\n",
              "\n",
              "      async function convertToInteractive(key) {\n",
              "        const element = document.querySelector('#df-b43856d8-b56c-4bc8-9833-7fa4d212d55d');\n",
              "        const dataTable =\n",
              "          await google.colab.kernel.invokeFunction('convertToInteractive',\n",
              "                                                    [key], {});\n",
              "        if (!dataTable) return;\n",
              "\n",
              "        const docLinkHtml = 'Like what you see? Visit the ' +\n",
              "          '<a target=\"_blank\" href=https://colab.research.google.com/notebooks/data_table.ipynb>data table notebook</a>'\n",
              "          + ' to learn more about interactive tables.';\n",
              "        element.innerHTML = '';\n",
              "        dataTable['output_type'] = 'display_data';\n",
              "        await google.colab.output.renderOutput(dataTable, element);\n",
              "        const docLink = document.createElement('div');\n",
              "        docLink.innerHTML = docLinkHtml;\n",
              "        element.appendChild(docLink);\n",
              "      }\n",
              "    </script>\n",
              "  </div>\n",
              "\n",
              "\n",
              "<div id=\"df-ff1f1cd9-2037-4eab-a7d4-fbe897c19123\">\n",
              "  <button class=\"colab-df-quickchart\" onclick=\"quickchart('df-ff1f1cd9-2037-4eab-a7d4-fbe897c19123')\"\n",
              "            title=\"Suggest charts\"\n",
              "            style=\"display:none;\">\n",
              "\n",
              "<svg xmlns=\"http://www.w3.org/2000/svg\" height=\"24px\"viewBox=\"0 0 24 24\"\n",
              "     width=\"24px\">\n",
              "    <g>\n",
              "        <path d=\"M19 3H5c-1.1 0-2 .9-2 2v14c0 1.1.9 2 2 2h14c1.1 0 2-.9 2-2V5c0-1.1-.9-2-2-2zM9 17H7v-7h2v7zm4 0h-2V7h2v10zm4 0h-2v-4h2v4z\"/>\n",
              "    </g>\n",
              "</svg>\n",
              "  </button>\n",
              "\n",
              "<style>\n",
              "  .colab-df-quickchart {\n",
              "      --bg-color: #E8F0FE;\n",
              "      --fill-color: #1967D2;\n",
              "      --hover-bg-color: #E2EBFA;\n",
              "      --hover-fill-color: #174EA6;\n",
              "      --disabled-fill-color: #AAA;\n",
              "      --disabled-bg-color: #DDD;\n",
              "  }\n",
              "\n",
              "  [theme=dark] .colab-df-quickchart {\n",
              "      --bg-color: #3B4455;\n",
              "      --fill-color: #D2E3FC;\n",
              "      --hover-bg-color: #434B5C;\n",
              "      --hover-fill-color: #FFFFFF;\n",
              "      --disabled-bg-color: #3B4455;\n",
              "      --disabled-fill-color: #666;\n",
              "  }\n",
              "\n",
              "  .colab-df-quickchart {\n",
              "    background-color: var(--bg-color);\n",
              "    border: none;\n",
              "    border-radius: 50%;\n",
              "    cursor: pointer;\n",
              "    display: none;\n",
              "    fill: var(--fill-color);\n",
              "    height: 32px;\n",
              "    padding: 0;\n",
              "    width: 32px;\n",
              "  }\n",
              "\n",
              "  .colab-df-quickchart:hover {\n",
              "    background-color: var(--hover-bg-color);\n",
              "    box-shadow: 0 1px 2px rgba(60, 64, 67, 0.3), 0 1px 3px 1px rgba(60, 64, 67, 0.15);\n",
              "    fill: var(--button-hover-fill-color);\n",
              "  }\n",
              "\n",
              "  .colab-df-quickchart-complete:disabled,\n",
              "  .colab-df-quickchart-complete:disabled:hover {\n",
              "    background-color: var(--disabled-bg-color);\n",
              "    fill: var(--disabled-fill-color);\n",
              "    box-shadow: none;\n",
              "  }\n",
              "\n",
              "  .colab-df-spinner {\n",
              "    border: 2px solid var(--fill-color);\n",
              "    border-color: transparent;\n",
              "    border-bottom-color: var(--fill-color);\n",
              "    animation:\n",
              "      spin 1s steps(1) infinite;\n",
              "  }\n",
              "\n",
              "  @keyframes spin {\n",
              "    0% {\n",
              "      border-color: transparent;\n",
              "      border-bottom-color: var(--fill-color);\n",
              "      border-left-color: var(--fill-color);\n",
              "    }\n",
              "    20% {\n",
              "      border-color: transparent;\n",
              "      border-left-color: var(--fill-color);\n",
              "      border-top-color: var(--fill-color);\n",
              "    }\n",
              "    30% {\n",
              "      border-color: transparent;\n",
              "      border-left-color: var(--fill-color);\n",
              "      border-top-color: var(--fill-color);\n",
              "      border-right-color: var(--fill-color);\n",
              "    }\n",
              "    40% {\n",
              "      border-color: transparent;\n",
              "      border-right-color: var(--fill-color);\n",
              "      border-top-color: var(--fill-color);\n",
              "    }\n",
              "    60% {\n",
              "      border-color: transparent;\n",
              "      border-right-color: var(--fill-color);\n",
              "    }\n",
              "    80% {\n",
              "      border-color: transparent;\n",
              "      border-right-color: var(--fill-color);\n",
              "      border-bottom-color: var(--fill-color);\n",
              "    }\n",
              "    90% {\n",
              "      border-color: transparent;\n",
              "      border-bottom-color: var(--fill-color);\n",
              "    }\n",
              "  }\n",
              "</style>\n",
              "\n",
              "  <script>\n",
              "    async function quickchart(key) {\n",
              "      const quickchartButtonEl =\n",
              "        document.querySelector('#' + key + ' button');\n",
              "      quickchartButtonEl.disabled = true;  // To prevent multiple clicks.\n",
              "      quickchartButtonEl.classList.add('colab-df-spinner');\n",
              "      try {\n",
              "        const charts = await google.colab.kernel.invokeFunction(\n",
              "            'suggestCharts', [key], {});\n",
              "      } catch (error) {\n",
              "        console.error('Error during call to suggestCharts:', error);\n",
              "      }\n",
              "      quickchartButtonEl.classList.remove('colab-df-spinner');\n",
              "      quickchartButtonEl.classList.add('colab-df-quickchart-complete');\n",
              "    }\n",
              "    (() => {\n",
              "      let quickchartButtonEl =\n",
              "        document.querySelector('#df-ff1f1cd9-2037-4eab-a7d4-fbe897c19123 button');\n",
              "      quickchartButtonEl.style.display =\n",
              "        google.colab.kernel.accessAllowed ? 'block' : 'none';\n",
              "    })();\n",
              "  </script>\n",
              "</div>\n",
              "\n",
              "    </div>\n",
              "  </div>\n"
            ],
            "application/vnd.google.colaboratory.intrinsic+json": {
              "type": "dataframe",
              "summary": "{\n  \"name\": \"df_resultados[['Modelo', 'Acur\\u00e1cia', 'Precis\\u00e3o', 'Recall', 'F1-Score', 'Melhores Hiperpar\\u00e2metros']]\",\n  \"rows\": 5,\n  \"fields\": [\n    {\n      \"column\": \"Modelo\",\n      \"properties\": {\n        \"dtype\": \"string\",\n        \"num_unique_values\": 5,\n        \"samples\": [\n          \"Regress\\u00e3o Log\\u00edstica\",\n          \"\\u00c1rvore de Decis\\u00e3o\",\n          \"SVM\"\n        ],\n        \"semantic_type\": \"\",\n        \"description\": \"\"\n      }\n    },\n    {\n      \"column\": \"Acur\\u00e1cia\",\n      \"properties\": {\n        \"dtype\": \"number\",\n        \"std\": 0.022135880174479296,\n        \"min\": 0.770949720670391,\n        \"max\": 0.8268156424581006,\n        \"num_unique_values\": 5,\n        \"samples\": [\n          0.7988826815642458,\n          0.770949720670391,\n          0.8100558659217877\n        ],\n        \"semantic_type\": \"\",\n        \"description\": \"\"\n      }\n    },\n    {\n      \"column\": \"Precis\\u00e3o\",\n      \"properties\": {\n        \"dtype\": \"number\",\n        \"std\": 0.030214131983750166,\n        \"min\": 0.7777777777777778,\n        \"max\": 0.8367346938775511,\n        \"num_unique_values\": 5,\n        \"samples\": [\n          0.7794117647058824,\n          0.8367346938775511,\n          0.8333333333333334\n        ],\n        \"semantic_type\": \"\",\n        \"description\": \"\"\n      }\n    },\n    {\n      \"column\": \"Recall\",\n      \"properties\": {\n        \"dtype\": \"number\",\n        \"std\": 0.06930206164842208,\n        \"min\": 0.5540540540540541,\n        \"max\": 0.7297297297297297,\n        \"num_unique_values\": 5,\n        \"samples\": [\n          0.7162162162162162,\n          0.5540540540540541,\n          0.6756756756756757\n        ],\n        \"semantic_type\": \"\",\n        \"description\": \"\"\n      }\n    },\n    {\n      \"column\": \"F1-Score\",\n      \"properties\": {\n        \"dtype\": \"number\",\n        \"std\": 0.04174016862276313,\n        \"min\": 0.6666666666666666,\n        \"max\": 0.7769784172661871,\n        \"num_unique_values\": 5,\n        \"samples\": [\n          0.7464788732394366,\n          0.6666666666666666,\n          0.746268656716418\n        ],\n        \"semantic_type\": \"\",\n        \"description\": \"\"\n      }\n    },\n    {\n      \"column\": \"Melhores Hiperpar\\u00e2metros\",\n      \"properties\": {\n        \"dtype\": \"object\",\n        \"semantic_type\": \"\",\n        \"description\": \"\"\n      }\n    }\n  ]\n}"
            }
          },
          "metadata": {},
          "execution_count": 27
        }
      ],
      "source": [
        "# Comparando os modelos otimizados\n",
        "df_resultados = pd.DataFrame(resultados)\n",
        "df_resultados = df_resultados.sort_values(by='F1-Score', ascending=False)\n",
        "df_resultados.reset_index(drop=True, inplace=True)\n",
        "df_resultados[['Modelo', 'Acurácia', 'Precisão', 'Recall', 'F1-Score', 'Melhores Hiperparâmetros']]"
      ],
      "id": "OiUn5huE2jUw"
    },
    {
      "cell_type": "markdown",
      "metadata": {
        "id": "nCYmM4JG2jUw"
      },
      "source": [
        "## 7. Selecionando e Salvando o Melhor Modelo"
      ],
      "id": "nCYmM4JG2jUw"
    },
    {
      "cell_type": "markdown",
      "metadata": {
        "id": "TwolN7aW2jUx"
      },
      "source": [
        "### 7.1 Selecionando o Melhor Modelo"
      ],
      "id": "TwolN7aW2jUx"
    },
    {
      "cell_type": "code",
      "execution_count": 28,
      "metadata": {
        "colab": {
          "base_uri": "https://localhost:8080/"
        },
        "id": "v_fEde5r2jUx",
        "outputId": "7cc081cc-b573-494b-92f0-c66386baeaf6"
      },
      "outputs": [
        {
          "output_type": "stream",
          "name": "stdout",
          "text": [
            "O melhor modelo foi: Random Forest\n",
            "Com os hiperparâmetros: {'classifier__max_depth': 10, 'classifier__n_estimators': 200}\n"
          ]
        }
      ],
      "source": [
        "# Selecionando o melhor modelo baseado no F1-Score\n",
        "melhor_modelo = df_resultados.loc[0, 'Modelo']\n",
        "melhor_pipeline = df_resultados.loc[0, 'Pipeline']\n",
        "\n",
        "print(f\"O melhor modelo foi: {melhor_modelo}\")\n",
        "print(f\"Com os hiperparâmetros: {df_resultados.loc[0, 'Melhores Hiperparâmetros']}\")"
      ],
      "id": "v_fEde5r2jUx"
    },
    {
      "cell_type": "markdown",
      "metadata": {
        "id": "Fg-VDbUS2jUx"
      },
      "source": [
        "### 7.2 Salvando o Modelo"
      ],
      "id": "Fg-VDbUS2jUx"
    },
    {
      "cell_type": "code",
      "execution_count": 29,
      "metadata": {
        "colab": {
          "base_uri": "https://localhost:8080/"
        },
        "id": "GuBD6U7K2jUx",
        "outputId": "9da05386-8754-4a2b-84e9-a091faf4cec2"
      },
      "outputs": [
        {
          "output_type": "execute_result",
          "data": {
            "text/plain": [
              "['melhor_modelo.pkl']"
            ]
          },
          "metadata": {},
          "execution_count": 29
        }
      ],
      "source": [
        "# Salvando o modelo usando joblib\n",
        "joblib.dump(melhor_pipeline, 'melhor_modelo.pkl')"
      ],
      "id": "GuBD6U7K2jUx"
    },
    {
      "cell_type": "markdown",
      "metadata": {
        "id": "R42rPRz32jUx"
      },
      "source": [
        "## 8. Carregando o Modelo e Fazendo Previsões"
      ],
      "id": "R42rPRz32jUx"
    },
    {
      "cell_type": "markdown",
      "metadata": {
        "id": "VGNi8PiW2jUx"
      },
      "source": [
        "### 8.1 Fazendo Previsões com Novos Dados do Usuário\n",
        "\n",
        "Nesta seção, vamos criar uma interface iterativa onde o usuário pode inserir novos dados, e o modelo fará previsões com base nesses dados."
      ],
      "id": "VGNi8PiW2jUx"
    },
    {
      "cell_type": "code",
      "execution_count": 30,
      "metadata": {
        "id": "wMmjXnZH2jUx"
      },
      "outputs": [],
      "source": [
        "# Carregando o modelo salvo\n",
        "modelo_carregado = joblib.load('melhor_modelo.pkl')"
      ],
      "id": "wMmjXnZH2jUx"
    },
    {
      "cell_type": "markdown",
      "metadata": {
        "id": "L91TN6dq2jUx"
      },
      "source": [
        "#### Função para Obter Dados do Usuário\n",
        "\n",
        "Vamos definir uma função que solicita os dados do usuário e retorna um DataFrame."
      ],
      "id": "L91TN6dq2jUx"
    },
    {
      "cell_type": "code",
      "execution_count": 31,
      "metadata": {
        "id": "HA4NlNSB2jUx"
      },
      "outputs": [],
      "source": [
        "# Função para obter dados do usuário\n",
        "def obter_dados_usuario():\n",
        "    print(\"Insira os dados do passageiro:\")\n",
        "\n",
        "    # Solicitando input do usuário\n",
        "    pclass = input(\"Classe (1, 2 ou 3): \")\n",
        "    while pclass not in ['1', '2', '3']:\n",
        "        print(\"Valor inválido. Por favor, insira 1, 2 ou 3.\")\n",
        "        pclass = input(\"Classe (1, 2 ou 3): \")\n",
        "    pclass = int(pclass)\n",
        "\n",
        "    sex = input(\"Sexo (male ou female): \").lower()\n",
        "    while sex not in ['male', 'female']:\n",
        "        print(\"Valor inválido. Por favor, insira 'male' ou 'female'.\")\n",
        "        sex = input(\"Sexo (male ou female): \").lower()\n",
        "\n",
        "    age = input(\"Idade: \")\n",
        "    while True:\n",
        "        try:\n",
        "            age = float(age)\n",
        "            if age < 0:\n",
        "                raise ValueError\n",
        "            break\n",
        "        except ValueError:\n",
        "            print(\"Valor inválido. Por favor, insira um número positivo.\")\n",
        "            age = input(\"Idade: \")\n",
        "\n",
        "    fare = input(\"Tarifa paga (entre 0 e 513 libras esterlinas): \")\n",
        "    while True:\n",
        "        try:\n",
        "            fare = float(fare)\n",
        "            if not 0 <= fare <= 513:\n",
        "                raise ValueError\n",
        "            break\n",
        "        except ValueError:\n",
        "            print(\"Valor inválido. Por favor, insira um número positivo.\")\n",
        "            fare = input(\"A tarifa paga deve estar entre 0 e 513 libras esterlinas: \")\n",
        "\n",
        "    # Criando um DataFrame com os dados inseridos\n",
        "    novo_passageiro = pd.DataFrame({\n",
        "        'Pclass': [pclass],\n",
        "        'Sex': [sex],\n",
        "        'Age': [age],\n",
        "        'Fare': [fare]\n",
        "    })\n",
        "\n",
        "    return novo_passageiro"
      ],
      "id": "HA4NlNSB2jUx"
    },
    {
      "cell_type": "markdown",
      "metadata": {
        "id": "KB6d8F6x2jUx"
      },
      "source": [
        "#### Loop Iterativo para Previsões\n",
        "\n",
        "Agora, vamos criar um loop que permite ao usuário inserir múltiplos conjuntos de dados."
      ],
      "id": "KB6d8F6x2jUx"
    },
    {
      "cell_type": "code",
      "execution_count": 32,
      "metadata": {
        "colab": {
          "base_uri": "https://localhost:8080/"
        },
        "id": "2OLATryz2jU2",
        "outputId": "e3d69b6c-0684-473c-c533-ff2479124354"
      },
      "outputs": [
        {
          "output_type": "stream",
          "name": "stdout",
          "text": [
            "Insira os dados do passageiro:\n",
            "Classe (1, 2 ou 3): 1\n",
            "Sexo (male ou female): male\n",
            "Idade: 55\n",
            "Tarifa paga (entre 0 e 513 libras esterlinas): 500\n",
            "\n",
            "Resultado da previsão: Sobreviveu\n",
            "Probabilidade de sobrevivência: 57.92%\n",
            "\n",
            "Deseja inserir outro passageiro? (s/n): n\n",
            "Encerrando as previsões.\n"
          ]
        }
      ],
      "source": [
        "# Loop iterativo para previsões\n",
        "while True:\n",
        "    # Obter dados do usuário\n",
        "    novo_passageiro = obter_dados_usuario()\n",
        "\n",
        "    # Fazer a previsão\n",
        "    predicao = modelo_carregado.predict(novo_passageiro)\n",
        "    probabilidade = modelo_carregado.predict_proba(novo_passageiro)\n",
        "\n",
        "    resultado = \"Sobreviveu\" if predicao[0] == 1 else \"Não Sobreviveu\"\n",
        "    prob_survived = probabilidade[0][1] * 100\n",
        "\n",
        "    print(f\"\\nResultado da previsão: {resultado}\")\n",
        "    print(f\"Probabilidade de sobrevivência: {prob_survived:.2f}%\\n\")\n",
        "\n",
        "    # Perguntar se o usuário quer inserir outro\n",
        "    continuar = input(\"Deseja inserir outro passageiro? (s/n): \").lower()\n",
        "    if continuar != 's':\n",
        "        print(\"Encerrando as previsões.\")\n",
        "        break"
      ],
      "id": "2OLATryz2jU2"
    },
    {
      "cell_type": "markdown",
      "metadata": {
        "id": "XDTLsckP2jU3"
      },
      "source": [
        "## 9. Conclusão\n",
        "\n",
        "Neste notebook, construímos um pipeline de machine learning que inclui múltiplos modelos de classificação. Utilizamos o Grid Search com validação cruzada para otimizar os hiperparâmetros de cada modelo. Avaliamos cada modelo usando métricas como Acurácia, Precisão, Recall e F1-Score. Com base nas métricas, selecionamos o melhor modelo otimizado e o salvamos para uso futuro. Por fim, implementamos uma interface interativa que permite ao usuário inserir novos dados e obter previsões do modelo, tornando a aplicação prática e interativa.\n",
        "\n",
        "Este processo é essencial em projetos de machine learning para garantir que estamos escolhendo o modelo e os hiperparâmetros mais adequados para o nosso problema, além de facilitar a implantação e o uso contínuo do modelo em ambientes reais."
      ],
      "id": "XDTLsckP2jU3"
    },
    {
      "cell_type": "markdown",
      "metadata": {
        "id": "hm3B4mpL2jU3"
      },
      "source": [
        "## 10. Referências\n",
        "\n",
        "- [Documentação do Scikit-Learn sobre Pipelines](https://scikit-learn.org/stable/modules/compose.html#pipeline)\n",
        "- [Documentação do GridSearchCV](https://scikit-learn.org/stable/modules/generated/sklearn.model_selection.GridSearchCV.html)\n",
        "- [Salvando Modelos com Joblib](https://scikit-learn.org/stable/modules/model_persistence.html)\n",
        "- [Dataset Titanic no Kaggle](https://www.kaggle.com/c/titanic/data)\n",
        "- [Validação Cruzada no Scikit-Learn](https://scikit-learn.org/stable/modules/cross_validation.html)\n",
        "- [Métricas de Avaliação de Classificação](https://scikit-learn.org/stable/modules/model_evaluation.html#classification-metrics)"
      ],
      "id": "hm3B4mpL2jU3"
    }
  ],
  "metadata": {
    "kernelspec": {
      "display_name": "Python 3",
      "language": "python",
      "name": "python3"
    },
    "language_info": {
      "name": "python",
      "version": "3.7.12",
      "mimetype": "text/x-python",
      "codemirror_mode": {
        "name": "ipython",
        "version": 3
      },
      "pygments_lexer": "ipython3",
      "nbconvert_exporter": "python",
      "file_extension": ".py"
    },
    "colab": {
      "provenance": [],
      "include_colab_link": true
    }
  },
  "nbformat": 4,
  "nbformat_minor": 5
}