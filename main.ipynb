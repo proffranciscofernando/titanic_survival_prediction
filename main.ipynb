{
  "cells": [
    {
      "cell_type": "markdown",
      "metadata": {
        "id": "view-in-github",
        "colab_type": "text"
      },
      "source": [
        "<a href=\"https://colab.research.google.com/github/proffranciscofernando/titanic_survival_prediction/blob/main/main.ipynb\" target=\"_parent\"><img src=\"https://colab.research.google.com/assets/colab-badge.svg\" alt=\"Open In Colab\"/></a>"
      ]
    },
    {
      "cell_type": "markdown",
      "metadata": {
        "id": "LxY4fUj6M9AO"
      },
      "source": [
        "# Titanic Survival Prediction\n",
        "\n",
        "This notebook demonstrates a machine learning pipeline built with Scikit-Learn to predict passenger survival on the Titanic. It encompasses data preprocessing, model training, hyperparameter optimisation using Grid Search with cross-validation, and an interactive interface for making predictions based on user input."
      ],
      "id": "LxY4fUj6M9AO"
    },
    {
      "cell_type": "markdown",
      "metadata": {
        "id": "QNy-Y0RmM9AP"
      },
      "source": [
        "## 1. Importing Necessary Libraries\n",
        "\n",
        "First, we import all the necessary libraries and suppress any non-critical warnings for a cleaner output."
      ],
      "id": "QNy-Y0RmM9AP"
    },
    {
      "cell_type": "code",
      "execution_count": 1,
      "metadata": {
        "id": "Z4JMUaLxM9AQ"
      },
      "outputs": [],
      "source": [
        "# Importing Necessary Libraries and Suppressing Warnings\n",
        "\n",
        "import numpy as np\n",
        "import pandas as pd\n",
        "\n",
        "from sklearn.pipeline import Pipeline\n",
        "from sklearn.preprocessing import StandardScaler, OneHotEncoder\n",
        "from sklearn.compose import ColumnTransformer\n",
        "from sklearn.model_selection import train_test_split, GridSearchCV\n",
        "from sklearn.linear_model import LogisticRegression\n",
        "from sklearn.ensemble import RandomForestClassifier\n",
        "from sklearn.svm import SVC\n",
        "from sklearn.neighbors import KNeighborsClassifier\n",
        "from sklearn.tree import DecisionTreeClassifier\n",
        "from sklearn.metrics import accuracy_score, precision_score, recall_score, f1_score\n",
        "\n",
        "import joblib  # For saving and loading the model\n",
        "\n",
        "# Suppressing warnings\n",
        "import warnings\n",
        "warnings.filterwarnings('ignore')"
      ],
      "id": "Z4JMUaLxM9AQ"
    },
    {
      "cell_type": "markdown",
      "metadata": {
        "id": "RsoYsHFuM9AR"
      },
      "source": [
        "## 2. Loading and Exploring the Dataset\n",
        "\n",
        "We will use the **Titanic** dataset to predict the survival of passengers."
      ],
      "id": "RsoYsHFuM9AR"
    },
    {
      "cell_type": "markdown",
      "metadata": {
        "id": "2z5TMTLBM9AR"
      },
      "source": [
        "### 2.1 Loading the Dataset"
      ],
      "id": "2z5TMTLBM9AR"
    },
    {
      "cell_type": "code",
      "execution_count": 2,
      "metadata": {
        "colab": {
          "base_uri": "https://localhost:8080/",
          "height": 293
        },
        "id": "oVbD56ARM9AR",
        "outputId": "ec9b30e4-c69d-4b8e-ab7d-4969f34afac2"
      },
      "outputs": [
        {
          "output_type": "execute_result",
          "data": {
            "text/plain": [
              "   PassengerId  Survived  Pclass  \\\n",
              "0            1         0       3   \n",
              "1            2         1       1   \n",
              "2            3         1       3   \n",
              "3            4         1       1   \n",
              "4            5         0       3   \n",
              "\n",
              "                                                Name     Sex   Age  SibSp  \\\n",
              "0                            Braund, Mr. Owen Harris    male  22.0      1   \n",
              "1  Cumings, Mrs. John Bradley (Florence Briggs Th...  female  38.0      1   \n",
              "2                             Heikkinen, Miss. Laina  female  26.0      0   \n",
              "3       Futrelle, Mrs. Jacques Heath (Lily May Peel)  female  35.0      1   \n",
              "4                           Allen, Mr. William Henry    male  35.0      0   \n",
              "\n",
              "   Parch            Ticket     Fare Cabin Embarked  \n",
              "0      0         A/5 21171   7.2500   NaN        S  \n",
              "1      0          PC 17599  71.2833   C85        C  \n",
              "2      0  STON/O2. 3101282   7.9250   NaN        S  \n",
              "3      0            113803  53.1000  C123        S  \n",
              "4      0            373450   8.0500   NaN        S  "
            ],
            "text/html": [
              "\n",
              "  <div id=\"df-ff60336a-50a1-440d-9d44-b6e03756b286\" class=\"colab-df-container\">\n",
              "    <div>\n",
              "<style scoped>\n",
              "    .dataframe tbody tr th:only-of-type {\n",
              "        vertical-align: middle;\n",
              "    }\n",
              "\n",
              "    .dataframe tbody tr th {\n",
              "        vertical-align: top;\n",
              "    }\n",
              "\n",
              "    .dataframe thead th {\n",
              "        text-align: right;\n",
              "    }\n",
              "</style>\n",
              "<table border=\"1\" class=\"dataframe\">\n",
              "  <thead>\n",
              "    <tr style=\"text-align: right;\">\n",
              "      <th></th>\n",
              "      <th>PassengerId</th>\n",
              "      <th>Survived</th>\n",
              "      <th>Pclass</th>\n",
              "      <th>Name</th>\n",
              "      <th>Sex</th>\n",
              "      <th>Age</th>\n",
              "      <th>SibSp</th>\n",
              "      <th>Parch</th>\n",
              "      <th>Ticket</th>\n",
              "      <th>Fare</th>\n",
              "      <th>Cabin</th>\n",
              "      <th>Embarked</th>\n",
              "    </tr>\n",
              "  </thead>\n",
              "  <tbody>\n",
              "    <tr>\n",
              "      <th>0</th>\n",
              "      <td>1</td>\n",
              "      <td>0</td>\n",
              "      <td>3</td>\n",
              "      <td>Braund, Mr. Owen Harris</td>\n",
              "      <td>male</td>\n",
              "      <td>22.0</td>\n",
              "      <td>1</td>\n",
              "      <td>0</td>\n",
              "      <td>A/5 21171</td>\n",
              "      <td>7.2500</td>\n",
              "      <td>NaN</td>\n",
              "      <td>S</td>\n",
              "    </tr>\n",
              "    <tr>\n",
              "      <th>1</th>\n",
              "      <td>2</td>\n",
              "      <td>1</td>\n",
              "      <td>1</td>\n",
              "      <td>Cumings, Mrs. John Bradley (Florence Briggs Th...</td>\n",
              "      <td>female</td>\n",
              "      <td>38.0</td>\n",
              "      <td>1</td>\n",
              "      <td>0</td>\n",
              "      <td>PC 17599</td>\n",
              "      <td>71.2833</td>\n",
              "      <td>C85</td>\n",
              "      <td>C</td>\n",
              "    </tr>\n",
              "    <tr>\n",
              "      <th>2</th>\n",
              "      <td>3</td>\n",
              "      <td>1</td>\n",
              "      <td>3</td>\n",
              "      <td>Heikkinen, Miss. Laina</td>\n",
              "      <td>female</td>\n",
              "      <td>26.0</td>\n",
              "      <td>0</td>\n",
              "      <td>0</td>\n",
              "      <td>STON/O2. 3101282</td>\n",
              "      <td>7.9250</td>\n",
              "      <td>NaN</td>\n",
              "      <td>S</td>\n",
              "    </tr>\n",
              "    <tr>\n",
              "      <th>3</th>\n",
              "      <td>4</td>\n",
              "      <td>1</td>\n",
              "      <td>1</td>\n",
              "      <td>Futrelle, Mrs. Jacques Heath (Lily May Peel)</td>\n",
              "      <td>female</td>\n",
              "      <td>35.0</td>\n",
              "      <td>1</td>\n",
              "      <td>0</td>\n",
              "      <td>113803</td>\n",
              "      <td>53.1000</td>\n",
              "      <td>C123</td>\n",
              "      <td>S</td>\n",
              "    </tr>\n",
              "    <tr>\n",
              "      <th>4</th>\n",
              "      <td>5</td>\n",
              "      <td>0</td>\n",
              "      <td>3</td>\n",
              "      <td>Allen, Mr. William Henry</td>\n",
              "      <td>male</td>\n",
              "      <td>35.0</td>\n",
              "      <td>0</td>\n",
              "      <td>0</td>\n",
              "      <td>373450</td>\n",
              "      <td>8.0500</td>\n",
              "      <td>NaN</td>\n",
              "      <td>S</td>\n",
              "    </tr>\n",
              "  </tbody>\n",
              "</table>\n",
              "</div>\n",
              "    <div class=\"colab-df-buttons\">\n",
              "\n",
              "  <div class=\"colab-df-container\">\n",
              "    <button class=\"colab-df-convert\" onclick=\"convertToInteractive('df-ff60336a-50a1-440d-9d44-b6e03756b286')\"\n",
              "            title=\"Convert this dataframe to an interactive table.\"\n",
              "            style=\"display:none;\">\n",
              "\n",
              "  <svg xmlns=\"http://www.w3.org/2000/svg\" height=\"24px\" viewBox=\"0 -960 960 960\">\n",
              "    <path d=\"M120-120v-720h720v720H120Zm60-500h600v-160H180v160Zm220 220h160v-160H400v160Zm0 220h160v-160H400v160ZM180-400h160v-160H180v160Zm440 0h160v-160H620v160ZM180-180h160v-160H180v160Zm440 0h160v-160H620v160Z\"/>\n",
              "  </svg>\n",
              "    </button>\n",
              "\n",
              "  <style>\n",
              "    .colab-df-container {\n",
              "      display:flex;\n",
              "      gap: 12px;\n",
              "    }\n",
              "\n",
              "    .colab-df-convert {\n",
              "      background-color: #E8F0FE;\n",
              "      border: none;\n",
              "      border-radius: 50%;\n",
              "      cursor: pointer;\n",
              "      display: none;\n",
              "      fill: #1967D2;\n",
              "      height: 32px;\n",
              "      padding: 0 0 0 0;\n",
              "      width: 32px;\n",
              "    }\n",
              "\n",
              "    .colab-df-convert:hover {\n",
              "      background-color: #E2EBFA;\n",
              "      box-shadow: 0px 1px 2px rgba(60, 64, 67, 0.3), 0px 1px 3px 1px rgba(60, 64, 67, 0.15);\n",
              "      fill: #174EA6;\n",
              "    }\n",
              "\n",
              "    .colab-df-buttons div {\n",
              "      margin-bottom: 4px;\n",
              "    }\n",
              "\n",
              "    [theme=dark] .colab-df-convert {\n",
              "      background-color: #3B4455;\n",
              "      fill: #D2E3FC;\n",
              "    }\n",
              "\n",
              "    [theme=dark] .colab-df-convert:hover {\n",
              "      background-color: #434B5C;\n",
              "      box-shadow: 0px 1px 3px 1px rgba(0, 0, 0, 0.15);\n",
              "      filter: drop-shadow(0px 1px 2px rgba(0, 0, 0, 0.3));\n",
              "      fill: #FFFFFF;\n",
              "    }\n",
              "  </style>\n",
              "\n",
              "    <script>\n",
              "      const buttonEl =\n",
              "        document.querySelector('#df-ff60336a-50a1-440d-9d44-b6e03756b286 button.colab-df-convert');\n",
              "      buttonEl.style.display =\n",
              "        google.colab.kernel.accessAllowed ? 'block' : 'none';\n",
              "\n",
              "      async function convertToInteractive(key) {\n",
              "        const element = document.querySelector('#df-ff60336a-50a1-440d-9d44-b6e03756b286');\n",
              "        const dataTable =\n",
              "          await google.colab.kernel.invokeFunction('convertToInteractive',\n",
              "                                                    [key], {});\n",
              "        if (!dataTable) return;\n",
              "\n",
              "        const docLinkHtml = 'Like what you see? Visit the ' +\n",
              "          '<a target=\"_blank\" href=https://colab.research.google.com/notebooks/data_table.ipynb>data table notebook</a>'\n",
              "          + ' to learn more about interactive tables.';\n",
              "        element.innerHTML = '';\n",
              "        dataTable['output_type'] = 'display_data';\n",
              "        await google.colab.output.renderOutput(dataTable, element);\n",
              "        const docLink = document.createElement('div');\n",
              "        docLink.innerHTML = docLinkHtml;\n",
              "        element.appendChild(docLink);\n",
              "      }\n",
              "    </script>\n",
              "  </div>\n",
              "\n",
              "\n",
              "<div id=\"df-6b4152fe-afe0-4bd6-8864-8474cca7966d\">\n",
              "  <button class=\"colab-df-quickchart\" onclick=\"quickchart('df-6b4152fe-afe0-4bd6-8864-8474cca7966d')\"\n",
              "            title=\"Suggest charts\"\n",
              "            style=\"display:none;\">\n",
              "\n",
              "<svg xmlns=\"http://www.w3.org/2000/svg\" height=\"24px\"viewBox=\"0 0 24 24\"\n",
              "     width=\"24px\">\n",
              "    <g>\n",
              "        <path d=\"M19 3H5c-1.1 0-2 .9-2 2v14c0 1.1.9 2 2 2h14c1.1 0 2-.9 2-2V5c0-1.1-.9-2-2-2zM9 17H7v-7h2v7zm4 0h-2V7h2v10zm4 0h-2v-4h2v4z\"/>\n",
              "    </g>\n",
              "</svg>\n",
              "  </button>\n",
              "\n",
              "<style>\n",
              "  .colab-df-quickchart {\n",
              "      --bg-color: #E8F0FE;\n",
              "      --fill-color: #1967D2;\n",
              "      --hover-bg-color: #E2EBFA;\n",
              "      --hover-fill-color: #174EA6;\n",
              "      --disabled-fill-color: #AAA;\n",
              "      --disabled-bg-color: #DDD;\n",
              "  }\n",
              "\n",
              "  [theme=dark] .colab-df-quickchart {\n",
              "      --bg-color: #3B4455;\n",
              "      --fill-color: #D2E3FC;\n",
              "      --hover-bg-color: #434B5C;\n",
              "      --hover-fill-color: #FFFFFF;\n",
              "      --disabled-bg-color: #3B4455;\n",
              "      --disabled-fill-color: #666;\n",
              "  }\n",
              "\n",
              "  .colab-df-quickchart {\n",
              "    background-color: var(--bg-color);\n",
              "    border: none;\n",
              "    border-radius: 50%;\n",
              "    cursor: pointer;\n",
              "    display: none;\n",
              "    fill: var(--fill-color);\n",
              "    height: 32px;\n",
              "    padding: 0;\n",
              "    width: 32px;\n",
              "  }\n",
              "\n",
              "  .colab-df-quickchart:hover {\n",
              "    background-color: var(--hover-bg-color);\n",
              "    box-shadow: 0 1px 2px rgba(60, 64, 67, 0.3), 0 1px 3px 1px rgba(60, 64, 67, 0.15);\n",
              "    fill: var(--button-hover-fill-color);\n",
              "  }\n",
              "\n",
              "  .colab-df-quickchart-complete:disabled,\n",
              "  .colab-df-quickchart-complete:disabled:hover {\n",
              "    background-color: var(--disabled-bg-color);\n",
              "    fill: var(--disabled-fill-color);\n",
              "    box-shadow: none;\n",
              "  }\n",
              "\n",
              "  .colab-df-spinner {\n",
              "    border: 2px solid var(--fill-color);\n",
              "    border-color: transparent;\n",
              "    border-bottom-color: var(--fill-color);\n",
              "    animation:\n",
              "      spin 1s steps(1) infinite;\n",
              "  }\n",
              "\n",
              "  @keyframes spin {\n",
              "    0% {\n",
              "      border-color: transparent;\n",
              "      border-bottom-color: var(--fill-color);\n",
              "      border-left-color: var(--fill-color);\n",
              "    }\n",
              "    20% {\n",
              "      border-color: transparent;\n",
              "      border-left-color: var(--fill-color);\n",
              "      border-top-color: var(--fill-color);\n",
              "    }\n",
              "    30% {\n",
              "      border-color: transparent;\n",
              "      border-left-color: var(--fill-color);\n",
              "      border-top-color: var(--fill-color);\n",
              "      border-right-color: var(--fill-color);\n",
              "    }\n",
              "    40% {\n",
              "      border-color: transparent;\n",
              "      border-right-color: var(--fill-color);\n",
              "      border-top-color: var(--fill-color);\n",
              "    }\n",
              "    60% {\n",
              "      border-color: transparent;\n",
              "      border-right-color: var(--fill-color);\n",
              "    }\n",
              "    80% {\n",
              "      border-color: transparent;\n",
              "      border-right-color: var(--fill-color);\n",
              "      border-bottom-color: var(--fill-color);\n",
              "    }\n",
              "    90% {\n",
              "      border-color: transparent;\n",
              "      border-bottom-color: var(--fill-color);\n",
              "    }\n",
              "  }\n",
              "</style>\n",
              "\n",
              "  <script>\n",
              "    async function quickchart(key) {\n",
              "      const quickchartButtonEl =\n",
              "        document.querySelector('#' + key + ' button');\n",
              "      quickchartButtonEl.disabled = true;  // To prevent multiple clicks.\n",
              "      quickchartButtonEl.classList.add('colab-df-spinner');\n",
              "      try {\n",
              "        const charts = await google.colab.kernel.invokeFunction(\n",
              "            'suggestCharts', [key], {});\n",
              "      } catch (error) {\n",
              "        console.error('Error during call to suggestCharts:', error);\n",
              "      }\n",
              "      quickchartButtonEl.classList.remove('colab-df-spinner');\n",
              "      quickchartButtonEl.classList.add('colab-df-quickchart-complete');\n",
              "    }\n",
              "    (() => {\n",
              "      let quickchartButtonEl =\n",
              "        document.querySelector('#df-6b4152fe-afe0-4bd6-8864-8474cca7966d button');\n",
              "      quickchartButtonEl.style.display =\n",
              "        google.colab.kernel.accessAllowed ? 'block' : 'none';\n",
              "    })();\n",
              "  </script>\n",
              "</div>\n",
              "\n",
              "    </div>\n",
              "  </div>\n"
            ],
            "application/vnd.google.colaboratory.intrinsic+json": {
              "type": "dataframe",
              "variable_name": "data",
              "summary": "{\n  \"name\": \"data\",\n  \"rows\": 891,\n  \"fields\": [\n    {\n      \"column\": \"PassengerId\",\n      \"properties\": {\n        \"dtype\": \"number\",\n        \"std\": 257,\n        \"min\": 1,\n        \"max\": 891,\n        \"num_unique_values\": 891,\n        \"samples\": [\n          710,\n          440,\n          841\n        ],\n        \"semantic_type\": \"\",\n        \"description\": \"\"\n      }\n    },\n    {\n      \"column\": \"Survived\",\n      \"properties\": {\n        \"dtype\": \"number\",\n        \"std\": 0,\n        \"min\": 0,\n        \"max\": 1,\n        \"num_unique_values\": 2,\n        \"samples\": [\n          1,\n          0\n        ],\n        \"semantic_type\": \"\",\n        \"description\": \"\"\n      }\n    },\n    {\n      \"column\": \"Pclass\",\n      \"properties\": {\n        \"dtype\": \"number\",\n        \"std\": 0,\n        \"min\": 1,\n        \"max\": 3,\n        \"num_unique_values\": 3,\n        \"samples\": [\n          3,\n          1\n        ],\n        \"semantic_type\": \"\",\n        \"description\": \"\"\n      }\n    },\n    {\n      \"column\": \"Name\",\n      \"properties\": {\n        \"dtype\": \"string\",\n        \"num_unique_values\": 891,\n        \"samples\": [\n          \"Moubarek, Master. Halim Gonios (\\\"William George\\\")\",\n          \"Kvillner, Mr. Johan Henrik Johannesson\"\n        ],\n        \"semantic_type\": \"\",\n        \"description\": \"\"\n      }\n    },\n    {\n      \"column\": \"Sex\",\n      \"properties\": {\n        \"dtype\": \"category\",\n        \"num_unique_values\": 2,\n        \"samples\": [\n          \"female\",\n          \"male\"\n        ],\n        \"semantic_type\": \"\",\n        \"description\": \"\"\n      }\n    },\n    {\n      \"column\": \"Age\",\n      \"properties\": {\n        \"dtype\": \"number\",\n        \"std\": 14.526497332334042,\n        \"min\": 0.42,\n        \"max\": 80.0,\n        \"num_unique_values\": 88,\n        \"samples\": [\n          0.75,\n          22.0\n        ],\n        \"semantic_type\": \"\",\n        \"description\": \"\"\n      }\n    },\n    {\n      \"column\": \"SibSp\",\n      \"properties\": {\n        \"dtype\": \"number\",\n        \"std\": 1,\n        \"min\": 0,\n        \"max\": 8,\n        \"num_unique_values\": 7,\n        \"samples\": [\n          1,\n          0\n        ],\n        \"semantic_type\": \"\",\n        \"description\": \"\"\n      }\n    },\n    {\n      \"column\": \"Parch\",\n      \"properties\": {\n        \"dtype\": \"number\",\n        \"std\": 0,\n        \"min\": 0,\n        \"max\": 6,\n        \"num_unique_values\": 7,\n        \"samples\": [\n          0,\n          1\n        ],\n        \"semantic_type\": \"\",\n        \"description\": \"\"\n      }\n    },\n    {\n      \"column\": \"Ticket\",\n      \"properties\": {\n        \"dtype\": \"string\",\n        \"num_unique_values\": 681,\n        \"samples\": [\n          \"11774\",\n          \"248740\"\n        ],\n        \"semantic_type\": \"\",\n        \"description\": \"\"\n      }\n    },\n    {\n      \"column\": \"Fare\",\n      \"properties\": {\n        \"dtype\": \"number\",\n        \"std\": 49.6934285971809,\n        \"min\": 0.0,\n        \"max\": 512.3292,\n        \"num_unique_values\": 248,\n        \"samples\": [\n          11.2417,\n          51.8625\n        ],\n        \"semantic_type\": \"\",\n        \"description\": \"\"\n      }\n    },\n    {\n      \"column\": \"Cabin\",\n      \"properties\": {\n        \"dtype\": \"category\",\n        \"num_unique_values\": 147,\n        \"samples\": [\n          \"D45\",\n          \"B49\"\n        ],\n        \"semantic_type\": \"\",\n        \"description\": \"\"\n      }\n    },\n    {\n      \"column\": \"Embarked\",\n      \"properties\": {\n        \"dtype\": \"category\",\n        \"num_unique_values\": 3,\n        \"samples\": [\n          \"S\",\n          \"C\"\n        ],\n        \"semantic_type\": \"\",\n        \"description\": \"\"\n      }\n    }\n  ]\n}"
            }
          },
          "metadata": {},
          "execution_count": 2
        }
      ],
      "source": [
        "# Loading the dataset\n",
        "url = 'https://raw.githubusercontent.com/proffranciscofernando/titanic_survival_prediction/refs/heads/main/titanic.csv'\n",
        "data = pd.read_csv(url)\n",
        "\n",
        "# Viewing the first few rows\n",
        "data.head()"
      ],
      "id": "oVbD56ARM9AR"
    },
    {
      "cell_type": "markdown",
      "metadata": {
        "id": "hY9VvYUWM9AS"
      },
      "source": [
        "### 2.2 Exploratory Data Analysis\n",
        "\n",
        "Let's check the basic information of the dataset to understand its structure."
      ],
      "id": "hY9VvYUWM9AS"
    },
    {
      "cell_type": "code",
      "execution_count": 3,
      "metadata": {
        "colab": {
          "base_uri": "https://localhost:8080/"
        },
        "id": "XCHgENUgM9AS",
        "outputId": "e659e833-c838-4d6c-f9d5-46d5156062e8"
      },
      "outputs": [
        {
          "output_type": "stream",
          "name": "stdout",
          "text": [
            "<class 'pandas.core.frame.DataFrame'>\n",
            "RangeIndex: 891 entries, 0 to 890\n",
            "Data columns (total 12 columns):\n",
            " #   Column       Non-Null Count  Dtype  \n",
            "---  ------       --------------  -----  \n",
            " 0   PassengerId  891 non-null    int64  \n",
            " 1   Survived     891 non-null    int64  \n",
            " 2   Pclass       891 non-null    int64  \n",
            " 3   Name         891 non-null    object \n",
            " 4   Sex          891 non-null    object \n",
            " 5   Age          714 non-null    float64\n",
            " 6   SibSp        891 non-null    int64  \n",
            " 7   Parch        891 non-null    int64  \n",
            " 8   Ticket       891 non-null    object \n",
            " 9   Fare         891 non-null    float64\n",
            " 10  Cabin        204 non-null    object \n",
            " 11  Embarked     889 non-null    object \n",
            "dtypes: float64(2), int64(5), object(5)\n",
            "memory usage: 83.7+ KB\n"
          ]
        }
      ],
      "source": [
        "# Basic information about the dataset\n",
        "data.info()"
      ],
      "id": "XCHgENUgM9AS"
    },
    {
      "cell_type": "markdown",
      "metadata": {
        "id": "I1R-wEI8M9AS"
      },
      "source": [
        "### 2.3 Selecting Features and Target Variable\n",
        "\n",
        "We will select some relevant columns to simplify the example."
      ],
      "id": "I1R-wEI8M9AS"
    },
    {
      "cell_type": "code",
      "execution_count": 4,
      "metadata": {
        "id": "quEhdA6IM9AS"
      },
      "outputs": [],
      "source": [
        "# Selecting features and target variable\n",
        "X = data[['Pclass', 'Sex', 'Age', 'Fare']]\n",
        "y = data['Survived']"
      ],
      "id": "quEhdA6IM9AS"
    },
    {
      "cell_type": "markdown",
      "metadata": {
        "id": "lDgI9-txM9AS"
      },
      "source": [
        "### 2.4 Handling Missing Values\n",
        "\n",
        "We will check for any missing values in the selected data."
      ],
      "id": "lDgI9-txM9AS"
    },
    {
      "cell_type": "code",
      "execution_count": 5,
      "metadata": {
        "colab": {
          "base_uri": "https://localhost:8080/",
          "height": 209
        },
        "id": "KXX4ug2BM9AT",
        "outputId": "07b6bed5-585e-47f7-9a27-f4442e24bfdc"
      },
      "outputs": [
        {
          "output_type": "execute_result",
          "data": {
            "text/plain": [
              "Pclass      0\n",
              "Sex         0\n",
              "Age       177\n",
              "Fare        0\n",
              "dtype: int64"
            ],
            "text/html": [
              "<div>\n",
              "<style scoped>\n",
              "    .dataframe tbody tr th:only-of-type {\n",
              "        vertical-align: middle;\n",
              "    }\n",
              "\n",
              "    .dataframe tbody tr th {\n",
              "        vertical-align: top;\n",
              "    }\n",
              "\n",
              "    .dataframe thead th {\n",
              "        text-align: right;\n",
              "    }\n",
              "</style>\n",
              "<table border=\"1\" class=\"dataframe\">\n",
              "  <thead>\n",
              "    <tr style=\"text-align: right;\">\n",
              "      <th></th>\n",
              "      <th>0</th>\n",
              "    </tr>\n",
              "  </thead>\n",
              "  <tbody>\n",
              "    <tr>\n",
              "      <th>Pclass</th>\n",
              "      <td>0</td>\n",
              "    </tr>\n",
              "    <tr>\n",
              "      <th>Sex</th>\n",
              "      <td>0</td>\n",
              "    </tr>\n",
              "    <tr>\n",
              "      <th>Age</th>\n",
              "      <td>177</td>\n",
              "    </tr>\n",
              "    <tr>\n",
              "      <th>Fare</th>\n",
              "      <td>0</td>\n",
              "    </tr>\n",
              "  </tbody>\n",
              "</table>\n",
              "</div><br><label><b>dtype:</b> int64</label>"
            ]
          },
          "metadata": {},
          "execution_count": 5
        }
      ],
      "source": [
        "# Checking for missing values\n",
        "X.isnull().sum()"
      ],
      "id": "KXX4ug2BM9AT"
    },
    {
      "cell_type": "markdown",
      "metadata": {
        "id": "RwlihnOuM9AT"
      },
      "source": [
        "As we can see, the **Age** column has missing values. We will fill these values with the mean age."
      ],
      "id": "RwlihnOuM9AT"
    },
    {
      "cell_type": "code",
      "execution_count": 6,
      "metadata": {
        "id": "y_CspO1LM9AT"
      },
      "outputs": [],
      "source": [
        "# Filling missing values in the 'Age' column with the mean\n",
        "X['Age'].fillna(X['Age'].mean(), inplace=True)"
      ],
      "id": "y_CspO1LM9AT"
    },
    {
      "cell_type": "markdown",
      "metadata": {
        "id": "7wrqNr-qM9AT"
      },
      "source": [
        "## 3. Data Preparation"
      ],
      "id": "7wrqNr-qM9AT"
    },
    {
      "cell_type": "markdown",
      "metadata": {
        "id": "2STZT7vAM9AT"
      },
      "source": [
        "### 3.1 Splitting Data into Training and Testing Sets\n",
        "\n",
        "We split the dataset into training and testing sets to evaluate the performance of the models."
      ],
      "id": "2STZT7vAM9AT"
    },
    {
      "cell_type": "code",
      "execution_count": 7,
      "metadata": {
        "id": "nOz1nuo7M9AT"
      },
      "outputs": [],
      "source": [
        "# Splitting the data into training and testing sets\n",
        "X_train, X_test, y_train, y_test = train_test_split(X, y, test_size=0.2, random_state=42)"
      ],
      "id": "nOz1nuo7M9AT"
    },
    {
      "cell_type": "markdown",
      "metadata": {
        "id": "UtEU-S0PM9AT"
      },
      "source": [
        "## 4. Building the Pipeline"
      ],
      "id": "UtEU-S0PM9AT"
    },
    {
      "cell_type": "markdown",
      "metadata": {
        "id": "meq4cuARM9AT"
      },
      "source": [
        "### 4.1 Creating the Preprocessing Pipeline\n",
        "\n",
        "We define transformations for numerical and categorical columns."
      ],
      "id": "meq4cuARM9AT"
    },
    {
      "cell_type": "code",
      "execution_count": 8,
      "metadata": {
        "id": "zzeEMVe7M9AT"
      },
      "outputs": [],
      "source": [
        "# Defining numerical and categorical columns\n",
        "numeric_features = ['Age', 'Fare']\n",
        "numeric_transformer = Pipeline(steps=[\n",
        "    ('scaler', StandardScaler())\n",
        "])\n",
        "\n",
        "categorical_features = ['Pclass', 'Sex']\n",
        "categorical_transformer = Pipeline(steps=[\n",
        "    ('onehot', OneHotEncoder(handle_unknown='ignore'))\n",
        "])\n",
        "\n",
        "# Combining the transformations\n",
        "preprocessor = ColumnTransformer(\n",
        "    transformers=[\n",
        "        ('num', numeric_transformer, numeric_features),\n",
        "        ('cat', categorical_transformer, categorical_features)\n",
        "    ])"
      ],
      "id": "zzeEMVe7M9AT"
    },
    {
      "cell_type": "markdown",
      "metadata": {
        "id": "aLCjcoVlM9AU"
      },
      "source": [
        "## 5. Hyperparameter Optimisation with Grid Search"
      ],
      "id": "aLCjcoVlM9AU"
    },
    {
      "cell_type": "markdown",
      "metadata": {
        "id": "GQatwpN6M9AU"
      },
      "source": [
        "### 5.1 Defining Models and Parameters\n",
        "\n",
        "We will define a list of classification models and the hyperparameters we wish to optimise for each."
      ],
      "id": "GQatwpN6M9AU"
    },
    {
      "cell_type": "code",
      "execution_count": 9,
      "metadata": {
        "id": "a88sHRy2M9AU"
      },
      "outputs": [],
      "source": [
        "# Defining models and their hyperparameters\n",
        "models_params = {\n",
        "    'Logistic Regression': {\n",
        "        'model': LogisticRegression(max_iter=1000),\n",
        "        'params': {\n",
        "            'classifier__C': [0.1, 1, 10],\n",
        "            'classifier__penalty': ['l2']\n",
        "        }\n",
        "    },\n",
        "    'Random Forest': {\n",
        "        'model': RandomForestClassifier(),\n",
        "        'params': {\n",
        "            'classifier__n_estimators': [50, 100, 200],\n",
        "            'classifier__max_depth': [None, 5, 10]\n",
        "        }\n",
        "    },\n",
        "    'SVM': {\n",
        "        'model': SVC(probability=True),\n",
        "        'params': {\n",
        "            'classifier__C': [0.1, 1, 10],\n",
        "            'classifier__kernel': ['linear', 'rbf']\n",
        "        }\n",
        "    },\n",
        "    'KNN': {\n",
        "        'model': KNeighborsClassifier(),\n",
        "        'params': {\n",
        "            'classifier__n_neighbors': [3, 5, 7],\n",
        "            'classifier__weights': ['uniform', 'distance']\n",
        "        }\n",
        "    },\n",
        "    'Decision Tree': {\n",
        "        'model': DecisionTreeClassifier(),\n",
        "        'params': {\n",
        "            'classifier__max_depth': [None, 5, 10],\n",
        "            'classifier__criterion': ['gini', 'entropy']\n",
        "        }\n",
        "    }\n",
        "}"
      ],
      "id": "a88sHRy2M9AU"
    },
    {
      "cell_type": "markdown",
      "metadata": {
        "id": "YpMv5EeFM9AU"
      },
      "source": [
        "### 5.2 Running Grid Search with Cross-Validation\n",
        "\n",
        "Now, we will perform Grid Search with cross-validation for each model."
      ],
      "id": "YpMv5EeFM9AU"
    },
    {
      "cell_type": "code",
      "execution_count": 10,
      "metadata": {
        "id": "oPyhX0jgM9AU"
      },
      "outputs": [],
      "source": [
        "# Running Grid Search with cross-validation for each model\n",
        "results = []\n",
        "\n",
        "for name, mp in models_params.items():\n",
        "    model = mp['model']\n",
        "    params = mp['params']\n",
        "\n",
        "    # Creating the pipeline with the current model\n",
        "    pipeline = Pipeline(steps=[\n",
        "        ('preprocessor', preprocessor),\n",
        "        ('classifier', model)\n",
        "    ])\n",
        "\n",
        "    # Grid Search with cross-validation\n",
        "    grid_search = GridSearchCV(\n",
        "        estimator=pipeline,\n",
        "        param_grid=params,\n",
        "        cv=5,\n",
        "        scoring='f1',\n",
        "        n_jobs=-1\n",
        "    )\n",
        "\n",
        "    # Training the model\n",
        "    grid_search.fit(X_train, y_train)\n",
        "\n",
        "    # Best model found\n",
        "    best_model = grid_search.best_estimator_\n",
        "\n",
        "    # Making predictions on the test set\n",
        "    y_pred = best_model.predict(X_test)\n",
        "\n",
        "    # Calculating metrics\n",
        "    acc = accuracy_score(y_test, y_pred)\n",
        "    prec = precision_score(y_test, y_pred)\n",
        "    rec = recall_score(y_test, y_pred)\n",
        "    f1 = f1_score(y_test, y_pred)\n",
        "\n",
        "    # Storing the results\n",
        "    results.append({\n",
        "        'Model': name,\n",
        "        'Best Hyperparameters': grid_search.best_params_,\n",
        "        'Accuracy': acc,\n",
        "        'Precision': prec,\n",
        "        'Recall': rec,\n",
        "        'F1-Score': f1,\n",
        "        'Pipeline': best_model  # Storing the best model\n",
        "    })"
      ],
      "id": "oPyhX0jgM9AU"
    },
    {
      "cell_type": "markdown",
      "metadata": {
        "id": "zWXnqRkIM9AU"
      },
      "source": [
        "### 5.3 Comparing Optimised Models\n",
        "\n",
        "Let's visualise the metrics of each optimised model in a dataframe."
      ],
      "id": "zWXnqRkIM9AU"
    },
    {
      "cell_type": "code",
      "execution_count": 11,
      "metadata": {
        "colab": {
          "base_uri": "https://localhost:8080/",
          "height": 206
        },
        "id": "pEM4svvEM9AV",
        "outputId": "c5562499-2a8b-4e65-aeb8-f6289cbaf460"
      },
      "outputs": [
        {
          "output_type": "execute_result",
          "data": {
            "text/plain": [
              "                 Model  Accuracy  Precision    Recall  F1-Score  \\\n",
              "0        Random Forest  0.810056   0.822581  0.689189  0.750000   \n",
              "1  Logistic Regression  0.798883   0.779412  0.716216  0.746479   \n",
              "2                  SVM  0.810056   0.833333  0.675676  0.746269   \n",
              "3                  KNN  0.782123   0.777778  0.662162  0.715328   \n",
              "4        Decision Tree  0.770950   0.836735  0.554054  0.666667   \n",
              "\n",
              "                                Best Hyperparameters  \n",
              "0  {'classifier__max_depth': 10, 'classifier__n_e...  \n",
              "1  {'classifier__C': 0.1, 'classifier__penalty': ...  \n",
              "2  {'classifier__C': 10, 'classifier__kernel': 'r...  \n",
              "3  {'classifier__n_neighbors': 3, 'classifier__we...  \n",
              "4  {'classifier__criterion': 'entropy', 'classifi...  "
            ],
            "text/html": [
              "\n",
              "  <div id=\"df-6790acbd-668e-416b-9300-f143c9ef530e\" class=\"colab-df-container\">\n",
              "    <div>\n",
              "<style scoped>\n",
              "    .dataframe tbody tr th:only-of-type {\n",
              "        vertical-align: middle;\n",
              "    }\n",
              "\n",
              "    .dataframe tbody tr th {\n",
              "        vertical-align: top;\n",
              "    }\n",
              "\n",
              "    .dataframe thead th {\n",
              "        text-align: right;\n",
              "    }\n",
              "</style>\n",
              "<table border=\"1\" class=\"dataframe\">\n",
              "  <thead>\n",
              "    <tr style=\"text-align: right;\">\n",
              "      <th></th>\n",
              "      <th>Model</th>\n",
              "      <th>Accuracy</th>\n",
              "      <th>Precision</th>\n",
              "      <th>Recall</th>\n",
              "      <th>F1-Score</th>\n",
              "      <th>Best Hyperparameters</th>\n",
              "    </tr>\n",
              "  </thead>\n",
              "  <tbody>\n",
              "    <tr>\n",
              "      <th>0</th>\n",
              "      <td>Random Forest</td>\n",
              "      <td>0.810056</td>\n",
              "      <td>0.822581</td>\n",
              "      <td>0.689189</td>\n",
              "      <td>0.750000</td>\n",
              "      <td>{'classifier__max_depth': 10, 'classifier__n_e...</td>\n",
              "    </tr>\n",
              "    <tr>\n",
              "      <th>1</th>\n",
              "      <td>Logistic Regression</td>\n",
              "      <td>0.798883</td>\n",
              "      <td>0.779412</td>\n",
              "      <td>0.716216</td>\n",
              "      <td>0.746479</td>\n",
              "      <td>{'classifier__C': 0.1, 'classifier__penalty': ...</td>\n",
              "    </tr>\n",
              "    <tr>\n",
              "      <th>2</th>\n",
              "      <td>SVM</td>\n",
              "      <td>0.810056</td>\n",
              "      <td>0.833333</td>\n",
              "      <td>0.675676</td>\n",
              "      <td>0.746269</td>\n",
              "      <td>{'classifier__C': 10, 'classifier__kernel': 'r...</td>\n",
              "    </tr>\n",
              "    <tr>\n",
              "      <th>3</th>\n",
              "      <td>KNN</td>\n",
              "      <td>0.782123</td>\n",
              "      <td>0.777778</td>\n",
              "      <td>0.662162</td>\n",
              "      <td>0.715328</td>\n",
              "      <td>{'classifier__n_neighbors': 3, 'classifier__we...</td>\n",
              "    </tr>\n",
              "    <tr>\n",
              "      <th>4</th>\n",
              "      <td>Decision Tree</td>\n",
              "      <td>0.770950</td>\n",
              "      <td>0.836735</td>\n",
              "      <td>0.554054</td>\n",
              "      <td>0.666667</td>\n",
              "      <td>{'classifier__criterion': 'entropy', 'classifi...</td>\n",
              "    </tr>\n",
              "  </tbody>\n",
              "</table>\n",
              "</div>\n",
              "    <div class=\"colab-df-buttons\">\n",
              "\n",
              "  <div class=\"colab-df-container\">\n",
              "    <button class=\"colab-df-convert\" onclick=\"convertToInteractive('df-6790acbd-668e-416b-9300-f143c9ef530e')\"\n",
              "            title=\"Convert this dataframe to an interactive table.\"\n",
              "            style=\"display:none;\">\n",
              "\n",
              "  <svg xmlns=\"http://www.w3.org/2000/svg\" height=\"24px\" viewBox=\"0 -960 960 960\">\n",
              "    <path d=\"M120-120v-720h720v720H120Zm60-500h600v-160H180v160Zm220 220h160v-160H400v160Zm0 220h160v-160H400v160ZM180-400h160v-160H180v160Zm440 0h160v-160H620v160ZM180-180h160v-160H180v160Zm440 0h160v-160H620v160Z\"/>\n",
              "  </svg>\n",
              "    </button>\n",
              "\n",
              "  <style>\n",
              "    .colab-df-container {\n",
              "      display:flex;\n",
              "      gap: 12px;\n",
              "    }\n",
              "\n",
              "    .colab-df-convert {\n",
              "      background-color: #E8F0FE;\n",
              "      border: none;\n",
              "      border-radius: 50%;\n",
              "      cursor: pointer;\n",
              "      display: none;\n",
              "      fill: #1967D2;\n",
              "      height: 32px;\n",
              "      padding: 0 0 0 0;\n",
              "      width: 32px;\n",
              "    }\n",
              "\n",
              "    .colab-df-convert:hover {\n",
              "      background-color: #E2EBFA;\n",
              "      box-shadow: 0px 1px 2px rgba(60, 64, 67, 0.3), 0px 1px 3px 1px rgba(60, 64, 67, 0.15);\n",
              "      fill: #174EA6;\n",
              "    }\n",
              "\n",
              "    .colab-df-buttons div {\n",
              "      margin-bottom: 4px;\n",
              "    }\n",
              "\n",
              "    [theme=dark] .colab-df-convert {\n",
              "      background-color: #3B4455;\n",
              "      fill: #D2E3FC;\n",
              "    }\n",
              "\n",
              "    [theme=dark] .colab-df-convert:hover {\n",
              "      background-color: #434B5C;\n",
              "      box-shadow: 0px 1px 3px 1px rgba(0, 0, 0, 0.15);\n",
              "      filter: drop-shadow(0px 1px 2px rgba(0, 0, 0, 0.3));\n",
              "      fill: #FFFFFF;\n",
              "    }\n",
              "  </style>\n",
              "\n",
              "    <script>\n",
              "      const buttonEl =\n",
              "        document.querySelector('#df-6790acbd-668e-416b-9300-f143c9ef530e button.colab-df-convert');\n",
              "      buttonEl.style.display =\n",
              "        google.colab.kernel.accessAllowed ? 'block' : 'none';\n",
              "\n",
              "      async function convertToInteractive(key) {\n",
              "        const element = document.querySelector('#df-6790acbd-668e-416b-9300-f143c9ef530e');\n",
              "        const dataTable =\n",
              "          await google.colab.kernel.invokeFunction('convertToInteractive',\n",
              "                                                    [key], {});\n",
              "        if (!dataTable) return;\n",
              "\n",
              "        const docLinkHtml = 'Like what you see? Visit the ' +\n",
              "          '<a target=\"_blank\" href=https://colab.research.google.com/notebooks/data_table.ipynb>data table notebook</a>'\n",
              "          + ' to learn more about interactive tables.';\n",
              "        element.innerHTML = '';\n",
              "        dataTable['output_type'] = 'display_data';\n",
              "        await google.colab.output.renderOutput(dataTable, element);\n",
              "        const docLink = document.createElement('div');\n",
              "        docLink.innerHTML = docLinkHtml;\n",
              "        element.appendChild(docLink);\n",
              "      }\n",
              "    </script>\n",
              "  </div>\n",
              "\n",
              "\n",
              "<div id=\"df-d73a79c3-5636-41ae-9180-d2d233b86feb\">\n",
              "  <button class=\"colab-df-quickchart\" onclick=\"quickchart('df-d73a79c3-5636-41ae-9180-d2d233b86feb')\"\n",
              "            title=\"Suggest charts\"\n",
              "            style=\"display:none;\">\n",
              "\n",
              "<svg xmlns=\"http://www.w3.org/2000/svg\" height=\"24px\"viewBox=\"0 0 24 24\"\n",
              "     width=\"24px\">\n",
              "    <g>\n",
              "        <path d=\"M19 3H5c-1.1 0-2 .9-2 2v14c0 1.1.9 2 2 2h14c1.1 0 2-.9 2-2V5c0-1.1-.9-2-2-2zM9 17H7v-7h2v7zm4 0h-2V7h2v10zm4 0h-2v-4h2v4z\"/>\n",
              "    </g>\n",
              "</svg>\n",
              "  </button>\n",
              "\n",
              "<style>\n",
              "  .colab-df-quickchart {\n",
              "      --bg-color: #E8F0FE;\n",
              "      --fill-color: #1967D2;\n",
              "      --hover-bg-color: #E2EBFA;\n",
              "      --hover-fill-color: #174EA6;\n",
              "      --disabled-fill-color: #AAA;\n",
              "      --disabled-bg-color: #DDD;\n",
              "  }\n",
              "\n",
              "  [theme=dark] .colab-df-quickchart {\n",
              "      --bg-color: #3B4455;\n",
              "      --fill-color: #D2E3FC;\n",
              "      --hover-bg-color: #434B5C;\n",
              "      --hover-fill-color: #FFFFFF;\n",
              "      --disabled-bg-color: #3B4455;\n",
              "      --disabled-fill-color: #666;\n",
              "  }\n",
              "\n",
              "  .colab-df-quickchart {\n",
              "    background-color: var(--bg-color);\n",
              "    border: none;\n",
              "    border-radius: 50%;\n",
              "    cursor: pointer;\n",
              "    display: none;\n",
              "    fill: var(--fill-color);\n",
              "    height: 32px;\n",
              "    padding: 0;\n",
              "    width: 32px;\n",
              "  }\n",
              "\n",
              "  .colab-df-quickchart:hover {\n",
              "    background-color: var(--hover-bg-color);\n",
              "    box-shadow: 0 1px 2px rgba(60, 64, 67, 0.3), 0 1px 3px 1px rgba(60, 64, 67, 0.15);\n",
              "    fill: var(--button-hover-fill-color);\n",
              "  }\n",
              "\n",
              "  .colab-df-quickchart-complete:disabled,\n",
              "  .colab-df-quickchart-complete:disabled:hover {\n",
              "    background-color: var(--disabled-bg-color);\n",
              "    fill: var(--disabled-fill-color);\n",
              "    box-shadow: none;\n",
              "  }\n",
              "\n",
              "  .colab-df-spinner {\n",
              "    border: 2px solid var(--fill-color);\n",
              "    border-color: transparent;\n",
              "    border-bottom-color: var(--fill-color);\n",
              "    animation:\n",
              "      spin 1s steps(1) infinite;\n",
              "  }\n",
              "\n",
              "  @keyframes spin {\n",
              "    0% {\n",
              "      border-color: transparent;\n",
              "      border-bottom-color: var(--fill-color);\n",
              "      border-left-color: var(--fill-color);\n",
              "    }\n",
              "    20% {\n",
              "      border-color: transparent;\n",
              "      border-left-color: var(--fill-color);\n",
              "      border-top-color: var(--fill-color);\n",
              "    }\n",
              "    30% {\n",
              "      border-color: transparent;\n",
              "      border-left-color: var(--fill-color);\n",
              "      border-top-color: var(--fill-color);\n",
              "      border-right-color: var(--fill-color);\n",
              "    }\n",
              "    40% {\n",
              "      border-color: transparent;\n",
              "      border-right-color: var(--fill-color);\n",
              "      border-top-color: var(--fill-color);\n",
              "    }\n",
              "    60% {\n",
              "      border-color: transparent;\n",
              "      border-right-color: var(--fill-color);\n",
              "    }\n",
              "    80% {\n",
              "      border-color: transparent;\n",
              "      border-right-color: var(--fill-color);\n",
              "      border-bottom-color: var(--fill-color);\n",
              "    }\n",
              "    90% {\n",
              "      border-color: transparent;\n",
              "      border-bottom-color: var(--fill-color);\n",
              "    }\n",
              "  }\n",
              "</style>\n",
              "\n",
              "  <script>\n",
              "    async function quickchart(key) {\n",
              "      const quickchartButtonEl =\n",
              "        document.querySelector('#' + key + ' button');\n",
              "      quickchartButtonEl.disabled = true;  // To prevent multiple clicks.\n",
              "      quickchartButtonEl.classList.add('colab-df-spinner');\n",
              "      try {\n",
              "        const charts = await google.colab.kernel.invokeFunction(\n",
              "            'suggestCharts', [key], {});\n",
              "      } catch (error) {\n",
              "        console.error('Error during call to suggestCharts:', error);\n",
              "      }\n",
              "      quickchartButtonEl.classList.remove('colab-df-spinner');\n",
              "      quickchartButtonEl.classList.add('colab-df-quickchart-complete');\n",
              "    }\n",
              "    (() => {\n",
              "      let quickchartButtonEl =\n",
              "        document.querySelector('#df-d73a79c3-5636-41ae-9180-d2d233b86feb button');\n",
              "      quickchartButtonEl.style.display =\n",
              "        google.colab.kernel.accessAllowed ? 'block' : 'none';\n",
              "    })();\n",
              "  </script>\n",
              "</div>\n",
              "\n",
              "    </div>\n",
              "  </div>\n"
            ],
            "application/vnd.google.colaboratory.intrinsic+json": {
              "type": "dataframe",
              "summary": "{\n  \"name\": \"df_results[['Model', 'Accuracy', 'Precision', 'Recall', 'F1-Score', 'Best Hyperparameters']]\",\n  \"rows\": 5,\n  \"fields\": [\n    {\n      \"column\": \"Model\",\n      \"properties\": {\n        \"dtype\": \"string\",\n        \"num_unique_values\": 5,\n        \"samples\": [\n          \"Logistic Regression\",\n          \"Decision Tree\",\n          \"SVM\"\n        ],\n        \"semantic_type\": \"\",\n        \"description\": \"\"\n      }\n    },\n    {\n      \"column\": \"Accuracy\",\n      \"properties\": {\n        \"dtype\": \"number\",\n        \"std\": 0.017399342460779267,\n        \"min\": 0.770949720670391,\n        \"max\": 0.8100558659217877,\n        \"num_unique_values\": 4,\n        \"samples\": [\n          0.7988826815642458,\n          0.770949720670391,\n          0.8100558659217877\n        ],\n        \"semantic_type\": \"\",\n        \"description\": \"\"\n      }\n    },\n    {\n      \"column\": \"Precision\",\n      \"properties\": {\n        \"dtype\": \"number\",\n        \"std\": 0.029117724165467977,\n        \"min\": 0.7777777777777778,\n        \"max\": 0.8367346938775511,\n        \"num_unique_values\": 5,\n        \"samples\": [\n          0.7794117647058824,\n          0.8367346938775511,\n          0.8333333333333334\n        ],\n        \"semantic_type\": \"\",\n        \"description\": \"\"\n      }\n    },\n    {\n      \"column\": \"Recall\",\n      \"properties\": {\n        \"dtype\": \"number\",\n        \"std\": 0.06222088882822345,\n        \"min\": 0.5540540540540541,\n        \"max\": 0.7162162162162162,\n        \"num_unique_values\": 5,\n        \"samples\": [\n          0.7162162162162162,\n          0.5540540540540541,\n          0.6756756756756757\n        ],\n        \"semantic_type\": \"\",\n        \"description\": \"\"\n      }\n    },\n    {\n      \"column\": \"F1-Score\",\n      \"properties\": {\n        \"dtype\": \"number\",\n        \"std\": 0.03547886989164479,\n        \"min\": 0.6666666666666666,\n        \"max\": 0.75,\n        \"num_unique_values\": 5,\n        \"samples\": [\n          0.7464788732394366,\n          0.6666666666666666,\n          0.746268656716418\n        ],\n        \"semantic_type\": \"\",\n        \"description\": \"\"\n      }\n    },\n    {\n      \"column\": \"Best Hyperparameters\",\n      \"properties\": {\n        \"dtype\": \"object\",\n        \"semantic_type\": \"\",\n        \"description\": \"\"\n      }\n    }\n  ]\n}"
            }
          },
          "metadata": {},
          "execution_count": 11
        }
      ],
      "source": [
        "# Comparing the optimised models\n",
        "df_results = pd.DataFrame(results)\n",
        "df_results = df_results.sort_values(by='F1-Score', ascending=False)\n",
        "df_results.reset_index(drop=True, inplace=True)\n",
        "df_results[['Model', 'Accuracy', 'Precision', 'Recall', 'F1-Score', 'Best Hyperparameters']]"
      ],
      "id": "pEM4svvEM9AV"
    },
    {
      "cell_type": "markdown",
      "metadata": {
        "id": "A6wmDnBhM9AV"
      },
      "source": [
        "## 6. Selecting and Saving the Best Model"
      ],
      "id": "A6wmDnBhM9AV"
    },
    {
      "cell_type": "markdown",
      "metadata": {
        "id": "6m5C3pgVM9AV"
      },
      "source": [
        "### 6.1 Selecting the Best Model"
      ],
      "id": "6m5C3pgVM9AV"
    },
    {
      "cell_type": "code",
      "execution_count": 12,
      "metadata": {
        "colab": {
          "base_uri": "https://localhost:8080/"
        },
        "id": "iwXbU1M8M9AV",
        "outputId": "5ee66e3d-5905-445c-b429-84a86a954aae"
      },
      "outputs": [
        {
          "output_type": "stream",
          "name": "stdout",
          "text": [
            "The best model was: Random Forest\n",
            "With hyperparameters: {'classifier__max_depth': 10, 'classifier__n_estimators': 200}\n"
          ]
        }
      ],
      "source": [
        "# Selecting the best model based on F1-Score\n",
        "best_model_name = df_results.loc[0, 'Model']\n",
        "best_pipeline = df_results.loc[0, 'Pipeline']\n",
        "\n",
        "print(f\"The best model was: {best_model_name}\")\n",
        "print(f\"With hyperparameters: {df_results.loc[0, 'Best Hyperparameters']}\")"
      ],
      "id": "iwXbU1M8M9AV"
    },
    {
      "cell_type": "markdown",
      "metadata": {
        "id": "E0ZxqhWrM9AV"
      },
      "source": [
        "### 6.2 Saving the Model"
      ],
      "id": "E0ZxqhWrM9AV"
    },
    {
      "cell_type": "code",
      "execution_count": 13,
      "metadata": {
        "colab": {
          "base_uri": "https://localhost:8080/"
        },
        "id": "2RHTHfVRM9AV",
        "outputId": "265de78b-e1b4-4b7b-b5fa-1d858ed4e702"
      },
      "outputs": [
        {
          "output_type": "execute_result",
          "data": {
            "text/plain": [
              "['best_model.pkl']"
            ]
          },
          "metadata": {},
          "execution_count": 13
        }
      ],
      "source": [
        "# Saving the model using joblib\n",
        "joblib.dump(best_pipeline, 'best_model.pkl')"
      ],
      "id": "2RHTHfVRM9AV"
    },
    {
      "cell_type": "markdown",
      "metadata": {
        "id": "KTo_F5IkM9AV"
      },
      "source": [
        "## 7. Loading the Model and Making Predictions"
      ],
      "id": "KTo_F5IkM9AV"
    },
    {
      "cell_type": "markdown",
      "metadata": {
        "id": "nv-cEfwGM9AV"
      },
      "source": [
        "### 7.1 Making Predictions with New User Input\n",
        "\n",
        "In this section, we will create an iterative interface where the user can input new data, and the model will make predictions based on that data."
      ],
      "id": "nv-cEfwGM9AV"
    },
    {
      "cell_type": "code",
      "execution_count": 14,
      "metadata": {
        "id": "2oNZKsPaM9AW"
      },
      "outputs": [],
      "source": [
        "# Loading the saved model\n",
        "loaded_model = joblib.load('best_model.pkl')"
      ],
      "id": "2oNZKsPaM9AW"
    },
    {
      "cell_type": "markdown",
      "metadata": {
        "id": "o07Db6E2M9AW"
      },
      "source": [
        "#### Function to Get User Input Data"
      ],
      "id": "o07Db6E2M9AW"
    },
    {
      "cell_type": "code",
      "execution_count": 15,
      "metadata": {
        "id": "Ko7vuFESM9AW"
      },
      "outputs": [],
      "source": [
        "# Function to get user input data\n",
        "def get_user_data():\n",
        "    print(\"Please enter the passenger's details:\")\n",
        "\n",
        "    # Prompting user for input\n",
        "    pclass = input(\"Class (1, 2 or 3): \")\n",
        "    while pclass not in ['1', '2', '3']:\n",
        "        print(\"Invalid value. Please enter 1, 2, or 3.\")\n",
        "        pclass = input(\"Class (1, 2 or 3): \")\n",
        "    pclass = int(pclass)\n",
        "\n",
        "    sex = input(\"Sex (male or female): \").lower()\n",
        "    while sex not in ['male', 'female']:\n",
        "        print(\"Invalid value. Please enter 'male' or 'female'.\")\n",
        "        sex = input(\"Sex (male or female): \").lower()\n",
        "\n",
        "    age = input(\"Age: \")\n",
        "    while True:\n",
        "        try:\n",
        "            age = float(age)\n",
        "            if age < 0:\n",
        "                raise ValueError\n",
        "            break\n",
        "        except ValueError:\n",
        "            print(\"Invalid value. Please enter a positive number.\")\n",
        "            age = input(\"Age: \")\n",
        "\n",
        "    fare = input(\"Fare Paid (between £0 and £513): \")\n",
        "    while True:\n",
        "        try:\n",
        "            fare = float(fare)\n",
        "            if not 0 <= fare <= 513:\n",
        "                raise ValueError\n",
        "            break\n",
        "        except ValueError:\n",
        "            print(\"Invalid value. Please enter a number between £0 and £513.\")\n",
        "            fare = input(\"Fare Paid must be between £0 and £513: \")\n",
        "\n",
        "    # Creating a DataFrame with the entered data\n",
        "    new_passenger = pd.DataFrame({\n",
        "        'Pclass': [pclass],\n",
        "        'Sex': [sex],\n",
        "        'Age': [age],\n",
        "        'Fare': [fare]\n",
        "    })\n",
        "\n",
        "    return new_passenger"
      ],
      "id": "Ko7vuFESM9AW"
    },
    {
      "cell_type": "markdown",
      "metadata": {
        "id": "dOmwlcxiM9AW"
      },
      "source": [
        "#### Iterative Loop for Predictions"
      ],
      "id": "dOmwlcxiM9AW"
    },
    {
      "cell_type": "code",
      "execution_count": 16,
      "metadata": {
        "colab": {
          "base_uri": "https://localhost:8080/"
        },
        "id": "_CQP59NOM9AW",
        "outputId": "bcc111b7-bd62-42b9-d85f-99a5e16c3926"
      },
      "outputs": [
        {
          "output_type": "stream",
          "name": "stdout",
          "text": [
            "Please enter the passenger's details:\n",
            "Class (1, 2 or 3): 1\n",
            "Sex (male or female): male\n",
            "Age: 22\n",
            "Fare Paid (between £0 and £513): 90\n",
            "\n",
            "Prediction Result: Did Not Survive\n",
            "Probability of Survival: 26.40%\n",
            "\n",
            "Would you like to enter another passenger? (y/n): n\n",
            "Ending predictions.\n"
          ]
        }
      ],
      "source": [
        "# Iterative loop for making predictions\n",
        "while True:\n",
        "    # Get user input data\n",
        "    new_passenger = get_user_data()\n",
        "\n",
        "    # Make prediction\n",
        "    prediction = loaded_model.predict(new_passenger)\n",
        "    probability = loaded_model.predict_proba(new_passenger)\n",
        "\n",
        "    result = \"Survived\" if prediction[0] == 1 else \"Did Not Survive\"\n",
        "    prob_survived = probability[0][1] * 100\n",
        "\n",
        "    print(f\"\\nPrediction Result: {result}\")\n",
        "    print(f\"Probability of Survival: {prob_survived:.2f}%\\n\")\n",
        "\n",
        "    # Ask if the user wants to input another passenger\n",
        "    continue_input = input(\"Would you like to enter another passenger? (y/n): \").lower()\n",
        "    if continue_input != 'y':\n",
        "        print(\"Ending predictions.\")\n",
        "        break"
      ],
      "id": "_CQP59NOM9AW"
    },
    {
      "cell_type": "markdown",
      "metadata": {
        "id": "Arr5gweaM9AX"
      },
      "source": [
        "## 3. Conclusion\n",
        "\n",
        "In this notebook, we built a machine learning pipeline that includes multiple classification models. We utilised Grid Search with cross-validation to optimise the hyperparameters of each model. We evaluated each model using metrics such as Accuracy, Precision, Recall, and F1-Score. Based on these metrics, we selected the best optimised model and saved it for future use. Finally, we implemented an interactive interface that allows users to input new data and obtain model predictions, making the application practical and interactive.\n",
        "\n",
        "This process is essential in machine learning projects to ensure that we are selecting the most appropriate model and hyperparameters for our problem, as well as facilitating the deployment and continuous use of the model in real-world environments."
      ],
      "id": "Arr5gweaM9AX"
    },
    {
      "cell_type": "markdown",
      "metadata": {
        "id": "hmlLv1sXM9AX"
      },
      "source": [
        "## 4. References\n",
        "\n",
        "- [Scikit-Learn Documentation on Pipelines](https://scikit-learn.org/stable/modules/compose.html#pipeline)\n",
        "- [Scikit-Learn Documentation on GridSearchCV](https://scikit-learn.org/stable/modules/generated/sklearn.model_selection.GridSearchCV.html)\n",
        "- [Saving Models with Joblib](https://scikit-learn.org/stable/modules/model_persistence.html)\n",
        "- [Titanic Dataset on Kaggle](https://www.kaggle.com/c/titanic/data)\n",
        "- [Cross-Validation in Scikit-Learn](https://scikit-learn.org/stable/modules/cross_validation.html)\n",
        "- [Classification Metrics](https://scikit-learn.org/stable/modules/model_evaluation.html#classification-metrics)"
      ],
      "id": "hmlLv1sXM9AX"
    }
  ],
  "metadata": {
    "kernelspec": {
      "display_name": "Python 3",
      "language": "python",
      "name": "python3"
    },
    "language_info": {
      "name": "python",
      "version": "3.7.12",
      "mimetype": "text/x-python",
      "codemirror_mode": {
        "name": "ipython",
        "version": 3
      },
      "pygments_lexer": "ipython3",
      "nbconvert_exporter": "python",
      "file_extension": ".py"
    },
    "colab": {
      "provenance": [],
      "include_colab_link": true
    }
  },
  "nbformat": 4,
  "nbformat_minor": 5
}